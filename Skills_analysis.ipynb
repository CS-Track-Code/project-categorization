{
  "nbformat": 4,
  "nbformat_minor": 0,
  "metadata": {
    "colab": {
      "provenance": []
    },
    "kernelspec": {
      "name": "python3",
      "display_name": "Python 3"
    },
    "language_info": {
      "name": "python"
    }
  },
  "cells": [
    {
      "cell_type": "markdown",
      "source": [
        "#### Skills of science inquiry in projects’ descriptions"
      ],
      "metadata": {
        "id": "QP0waPbtvoJc"
      }
    },
    {
      "cell_type": "code",
      "source": [
        "# pandas and numpy for reading and manipulating the data\n",
        "import pandas as pd\n",
        "import numpy as np\n",
        "\n",
        "# matplotlib and seaborn for visualizing the data\n",
        "import matplotlib.pyplot as plt\n",
        "import seaborn as sns\n",
        "\n",
        "#language processing\n",
        "import nltk\n",
        "from nltk.stem.snowball import SnowballStemmer\n",
        "from nltk.corpus import stopwords\n",
        "\n",
        "import warnings\n",
        "warnings.filterwarnings('ignore')\n",
        "\n",
        "# read the dataset\n",
        "training = pd.read_csv('/content/drive/Shareddrives/TIDE CS-Track (interna)/D2.2/to-github-skills/github/dataTraining.csv')"
      ],
      "metadata": {
        "id": "33RAHMNNwr1I"
      },
      "execution_count": null,
      "outputs": []
    },
    {
      "cell_type": "code",
      "source": [
        "# basic stats about the data\n",
        "#training.info()"
      ],
      "metadata": {
        "id": "OBftekC2xYrL"
      },
      "execution_count": null,
      "outputs": []
    },
    {
      "cell_type": "code",
      "source": [
        "training['category_index'].value_counts() "
      ],
      "metadata": {
        "colab": {
          "base_uri": "https://localhost:8080/"
        },
        "id": "bDpDAH4Xxpeo",
        "outputId": "7767b2e6-8bd8-4ca9-d4c5-859c39cdfd46"
      },
      "execution_count": null,
      "outputs": [
        {
          "output_type": "execute_result",
          "data": {
            "text/plain": [
              "0    183\n",
              "1    178\n",
              "Name: category_index, dtype: int64"
            ]
          },
          "metadata": {},
          "execution_count": 3
        }
      ]
    },
    {
      "cell_type": "markdown",
      "source": [
        "#### Q1:  What types of science inquiry skills CS projects promote?"
      ],
      "metadata": {
        "id": "ZyO-HRpWxfEn"
      }
    },
    {
      "cell_type": "code",
      "source": [
        "#only positive subset\n",
        "onlyPositive = training.loc[training['category_index'] == 1]\n",
        "\n",
        "\n",
        "# Use English stemmer\n",
        "stemmer = SnowballStemmer(\"english\")\n",
        "\n",
        "\n",
        "# Split the sentences to lists of words.\n",
        "onlyPositive['unstemmed'] = onlyPositive['sentences'].str.split()\n",
        "\n",
        "# Stem every word.\n",
        "onlyPositive['stemmed'] = onlyPositive['unstemmed'].apply(lambda x: [stemmer.stem(y) for y in x]) \n",
        "\n",
        "# Get rid of the unstemmed column.\n",
        "onlyPositive = onlyPositive.drop(columns=['unstemmed']) \n",
        "\n",
        "#remove stop words\n",
        "nltk.download('stopwords')\n",
        "stop = stopwords.words('english')\n",
        "onlyPositive['stop'] = onlyPositive['stemmed'].apply(lambda x: [item for item in x if item not in stop])"
      ],
      "metadata": {
        "colab": {
          "base_uri": "https://localhost:8080/"
        },
        "id": "qChqPhR1xY4w",
        "outputId": "e95813bc-b799-4aa1-b916-8b56d1775018"
      },
      "execution_count": null,
      "outputs": [
        {
          "output_type": "stream",
          "name": "stderr",
          "text": [
            "[nltk_data] Downloading package stopwords to /root/nltk_data...\n",
            "[nltk_data]   Package stopwords is already up-to-date!\n"
          ]
        }
      ]
    },
    {
      "cell_type": "code",
      "source": [
        "#onlyPositive.to_csv('onlyPositive.csv')\n",
        "\n",
        "selected_words_after_stemming=['collect','search','record','identify','observ','find','count','enter','note','transcrib','share','answer','locat','discuss','analys','insert','comment','measurements'] \n",
        "\n",
        "len(selected_words_after_stemming)"
      ],
      "metadata": {
        "colab": {
          "base_uri": "https://localhost:8080/"
        },
        "id": "JFIpHMpcxY8q",
        "outputId": "058085f7-9ec7-46fc-eafb-6bb503776dc9"
      },
      "execution_count": null,
      "outputs": [
        {
          "output_type": "execute_result",
          "data": {
            "text/plain": [
              "18"
            ]
          },
          "metadata": {},
          "execution_count": 5
        }
      ]
    },
    {
      "cell_type": "code",
      "source": [
        "#how many times each skill appear in each project description\n",
        "titles =  len(onlyPositive.axes[0])\n",
        "df_all = []\n",
        "df_stats = {}\n",
        "\n",
        "for i in range(0,titles):\n",
        "  splited_words = onlyPositive['stop'].iloc[i]\n",
        "  df2 = pd.DataFrame(splited_words,columns=[onlyPositive['title'].iloc[i]])\n",
        "  df_all.append(df2)\n",
        "  \n",
        "#print(df_all[55])"
      ],
      "metadata": {
        "id": "y9-I05B8xZAg"
      },
      "execution_count": null,
      "outputs": []
    },
    {
      "cell_type": "code",
      "source": [
        "for df in df_all:\n",
        "  df_col_name = df.columns.values.tolist()[0]\n",
        "  outDict = {}\n",
        "  #print(df[column_name])\n",
        "  for word in selected_words_after_stemming:\n",
        "    outDict[word] = df[df_col_name].str.contains(word).sum()\n",
        "  df_stats[df_col_name] = outDict"
      ],
      "metadata": {
        "id": "Nk7Xz8QczCVD"
      },
      "execution_count": null,
      "outputs": []
    },
    {
      "cell_type": "code",
      "source": [
        "finalCounts = pd.DataFrame.from_dict(df_stats) \n",
        "finalCounts.to_csv ('specWordCount.csv', index = True, header=True)"
      ],
      "metadata": {
        "id": "R4IA_Is4xZFL"
      },
      "execution_count": null,
      "outputs": []
    },
    {
      "cell_type": "code",
      "source": [
        "calc = pd.read_csv(\"/content/specWordCount.csv\") \n",
        "calc[\"sum\"] = calc.sum(axis=1)\n",
        "calc.to_csv('specWordSum.csv',  header=True) \n",
        "#calc.head()"
      ],
      "metadata": {
        "id": "CE62cQ7jzJq7"
      },
      "execution_count": null,
      "outputs": []
    },
    {
      "cell_type": "code",
      "source": [
        "#copy calc to df2 except 1st column\n",
        "df2 = calc.iloc[:,1:] \n",
        "\n",
        "#drop sum column\n",
        "df2.drop('sum', axis=1, inplace=True) \n",
        "\n",
        "#replace any value greater than 0 to 1 to indicate the presence of skills in projects\n",
        "df2[df2 > 0] = 1 \n",
        "\n",
        "#add skills column back\n",
        "skills = calc['Unnamed: 0'] \n",
        "df2 = df2.join(skills)\n",
        "df2.rename(columns = {'Unnamed: 0':'Keywords'}, inplace = True)\n",
        "\n",
        "df2[\"project_count\"] = df2.sum(axis=1)\n",
        "\n",
        "# Select last 2 columns to plot\n",
        "requiredData = df2.iloc[:,-2:]\n",
        "\n",
        "# String matching for \"fill out\" and \"come up with\"\n",
        "fill_out = onlyPositive[onlyPositive['sentences'].str.contains('fill out', regex=False, case=False)] #case=False - irrespective of the case \n",
        "come_up_with = onlyPositive[onlyPositive['sentences'].str.contains('come up with', regex=False, case=False)] #case=False - irrespective of the case \n",
        "\n",
        "#appearence of fill out in project descriptions\n",
        "fill_out.sentences.str.count(\"fill out\")\n",
        "fill = fill_out['sentences'].str.count('fill out').sum()\n",
        "\n",
        "#appearence of come up with in project descriptions\n",
        "come_up_with.sentences.str.count(\"come up with\")\n",
        "come_up_with['sentences'].str.count('come up with').sum()\n",
        "\n",
        "#define second DataFrame\n",
        "new = pd.DataFrame({'Keywords': ['fill out', 'come up with'],\n",
        "                    'project_count': [2, 1]})\n",
        "\n",
        "#add new row to end of DataFrame\n",
        "requiredData = requiredData.append(new, ignore_index = True)\n",
        "\n",
        "#sort count descending before putting to graph\n",
        "\n",
        "requiredData = requiredData.sort_values(by='project_count', ascending=False)\n",
        "requiredData\n",
        "\n",
        "# Declare a list with complete name of the skill\n",
        "spelling = ['Observe', 'Search', 'Collect', 'Find', 'Analyse', 'Discuss', 'Record', 'Locate', 'Share', 'Count',  'Transcribe', 'Note', 'Enter', 'Answer', 'Fill out', 'Identify', 'Insert' ,'Measurements', 'Come up with', 'Comment']\n",
        "requiredData['Full_Keyword'] = spelling\n"
      ],
      "metadata": {
        "id": "8-H2PAXkzJ3S"
      },
      "execution_count": null,
      "outputs": []
    },
    {
      "cell_type": "markdown",
      "source": [
        "Distribution of keywords in the training data"
      ],
      "metadata": {
        "id": "zOQ1g2zF1Fcf"
      }
    },
    {
      "cell_type": "code",
      "source": [
        "#plot\n",
        "plt.rcParams[\"figure.figsize\"] = [20, 10]\n",
        "font = {'family' : 'normal',\n",
        "        'weight' : 'bold',\n",
        "        'size'   : 22}\n",
        "\n",
        "plt.rc('font', **font)\n",
        "\n",
        "sns.set_style('darkgrid')\n",
        "\n",
        "labels = requiredData.Full_Keyword\n",
        "\n",
        "ax = sns.barplot(x=requiredData.Full_Keyword, y=requiredData.project_count,color='#42b7bd') \n",
        "\n",
        "ax.set_xticklabels(labels, rotation=90, horizontalalignment=\"center\")\n",
        "\n",
        "plt.title(\"Presence of Learning Skills in Training Dataset\")\n",
        "ax.set_xlabel(\"Related Keywords\")\n",
        "ax.set_ylabel(\"No. of Projects promoting a particular skill\")\n",
        "\n",
        "plt.savefig('training-skills.png', bbox_inches='tight')"
      ],
      "metadata": {
        "colab": {
          "base_uri": "https://localhost:8080/",
          "height": 816
        },
        "id": "qJpFBj2_zJ7z",
        "outputId": "a2396193-d0ae-477e-bf8d-ed0cc5c044bd"
      },
      "execution_count": null,
      "outputs": [
        {
          "output_type": "display_data",
          "data": {
            "text/plain": [
              "<Figure size 1440x720 with 1 Axes>"
            ],
            "image/png": "[encoded data removed]"
          },
          "metadata": {}
        }
      ]
    },
    {
      "cell_type": "code",
      "source": [
        "#reading the file with prediction results\n",
        "byText = pd.read_csv(\"/content/drive/Shareddrives/TIDE CS-Track (interna)/D2.2/to-github-skills/github/finalClassbyTextSimple21.csv\")\n",
        "\n",
        "# basic stats about the data\n",
        "#byText.info()"
      ],
      "metadata": {
        "id": "EqThMZv3zKAi"
      },
      "execution_count": null,
      "outputs": []
    },
    {
      "cell_type": "code",
      "source": [
        "byText['category_index'].value_counts()*100/len(byText) # 85% for 0 and 15% for 1"
      ],
      "metadata": {
        "colab": {
          "base_uri": "https://localhost:8080/"
        },
        "id": "m3HNO7Zo2bIS",
        "outputId": "02a0327b-5edf-432d-cdfd-98e446e818c2"
      },
      "execution_count": null,
      "outputs": [
        {
          "output_type": "execute_result",
          "data": {
            "text/plain": [
              "0    84.918478\n",
              "1    15.081522\n",
              "Name: category_index, dtype: float64"
            ]
          },
          "metadata": {},
          "execution_count": 13
        }
      ]
    },
    {
      "cell_type": "code",
      "source": [
        "#only positive subset for presenting results\n",
        "onlyPositive = byText.loc[byText['category_index'] == 1]"
      ],
      "metadata": {
        "id": "QguBr9Fc2mIx"
      },
      "execution_count": null,
      "outputs": []
    },
    {
      "cell_type": "markdown",
      "source": [
        "We decided to remove the following from the dataset (that was not in english or didn't had a description)\n",
        "\n",
        "- 별이 빛나는 Eco-City\n",
        "\n",
        "- Flying Fox Monitoring Project\n",
        "\n",
        "- DO NOT USE - Draft Monitoring Nesting Behaviour - Coastal Raptor Nests in Redland City\n",
        "\n",
        "- Monitoring Nesting Behaviour - Coastal Raptor Nests in Redland City\n",
        "\n",
        "- Downeast Maine Shellfish Sustainability Project"
      ],
      "metadata": {
        "id": "mzFcLW272wAt"
      }
    },
    {
      "cell_type": "code",
      "source": [
        "# filtering the rows \n",
        "onlyPositive[onlyPositive['Title'].str.contains('별이 빛나는 Eco-City')]"
      ],
      "metadata": {
        "colab": {
          "base_uri": "https://localhost:8080/",
          "height": 100
        },
        "id": "VQcOsnfc2s-w",
        "outputId": "955fd8cb-b356-4866-ef04-7ae9524bf4ea"
      },
      "execution_count": null,
      "outputs": [
        {
          "output_type": "execute_result",
          "data": {
            "text/plain": [
              "     Unnamed: 0            Title  \\\n",
              "184         184  별이 빛나는 Eco-City   \n",
              "\n",
              "                                             sentences  category_index  \n",
              "184  [\"빛공해의 심각성을 인지하기 위해 밤하늘의 별자리가 얼마나 보이는지 관측하고 밤에...               1  "
            ],
            "text/html": [
              "\n",
              "  <div id=\"df-58586891-878a-4647-8e3b-ec32281ec548\">\n",
              "    <div class=\"colab-df-container\">\n",
              "      <div>\n",
              "<style scoped>\n",
              "    .dataframe tbody tr th:only-of-type {\n",
              "        vertical-align: middle;\n",
              "    }\n",
              "\n",
              "    .dataframe tbody tr th {\n",
              "        vertical-align: top;\n",
              "    }\n",
              "\n",
              "    .dataframe thead th {\n",
              "        text-align: right;\n",
              "    }\n",
              "</style>\n",
              "<table border=\"1\" class=\"dataframe\">\n",
              "  <thead>\n",
              "    <tr style=\"text-align: right;\">\n",
              "      <th></th>\n",
              "      <th>Unnamed: 0</th>\n",
              "      <th>Title</th>\n",
              "      <th>sentences</th>\n",
              "      <th>category_index</th>\n",
              "    </tr>\n",
              "  </thead>\n",
              "  <tbody>\n",
              "    <tr>\n",
              "      <th>184</th>\n",
              "      <td>184</td>\n",
              "      <td>별이 빛나는 Eco-City</td>\n",
              "      <td>[\"빛공해의 심각성을 인지하기 위해 밤하늘의 별자리가 얼마나 보이는지 관측하고 밤에...</td>\n",
              "      <td>1</td>\n",
              "    </tr>\n",
              "  </tbody>\n",
              "</table>\n",
              "</div>\n",
              "      <button class=\"colab-df-convert\" onclick=\"convertToInteractive('df-58586891-878a-4647-8e3b-ec32281ec548')\"\n",
              "              title=\"Convert this dataframe to an interactive table.\"\n",
              "              style=\"display:none;\">\n",
              "        \n",
              "  <svg xmlns=\"http://www.w3.org/2000/svg\" height=\"24px\"viewBox=\"0 0 24 24\"\n",
              "       width=\"24px\">\n",
              "    <path d=\"M0 0h24v24H0V0z\" fill=\"none\"/>\n",
              "    <path d=\"M18.56 5.44l.94 2.06.94-2.06 2.06-.94-2.06-.94-.94-2.06-.94 2.06-2.06.94zm-11 1L8.5 8.5l.94-2.06 2.06-.94-2.06-.94L8.5 2.5l-.94 2.06-2.06.94zm10 10l.94 2.06.94-2.06 2.06-.94-2.06-.94-.94-2.06-.94 2.06-2.06.94z\"/><path d=\"M17.41 7.96l-1.37-1.37c-.4-.4-.92-.59-1.43-.59-.52 0-1.04.2-1.43.59L10.3 9.45l-7.72 7.72c-.78.78-.78 2.05 0 2.83L4 21.41c.39.39.9.59 1.41.59.51 0 1.02-.2 1.41-.59l7.78-7.78 2.81-2.81c.8-.78.8-2.07 0-2.86zM5.41 20L4 18.59l7.72-7.72 1.47 1.35L5.41 20z\"/>\n",
              "  </svg>\n",
              "      </button>\n",
              "      \n",
              "  <style>\n",
              "    .colab-df-container {\n",
              "      display:flex;\n",
              "      flex-wrap:wrap;\n",
              "      gap: 12px;\n",
              "    }\n",
              "\n",
              "    .colab-df-convert {\n",
              "      background-color: #E8F0FE;\n",
              "      border: none;\n",
              "      border-radius: 50%;\n",
              "      cursor: pointer;\n",
              "      display: none;\n",
              "      fill: #1967D2;\n",
              "      height: 32px;\n",
              "      padding: 0 0 0 0;\n",
              "      width: 32px;\n",
              "    }\n",
              "\n",
              "    .colab-df-convert:hover {\n",
              "      background-color: #E2EBFA;\n",
              "      box-shadow: 0px 1px 2px rgba(60, 64, 67, 0.3), 0px 1px 3px 1px rgba(60, 64, 67, 0.15);\n",
              "      fill: #174EA6;\n",
              "    }\n",
              "\n",
              "    [theme=dark] .colab-df-convert {\n",
              "      background-color: #3B4455;\n",
              "      fill: #D2E3FC;\n",
              "    }\n",
              "\n",
              "    [theme=dark] .colab-df-convert:hover {\n",
              "      background-color: #434B5C;\n",
              "      box-shadow: 0px 1px 3px 1px rgba(0, 0, 0, 0.15);\n",
              "      filter: drop-shadow(0px 1px 2px rgba(0, 0, 0, 0.3));\n",
              "      fill: #FFFFFF;\n",
              "    }\n",
              "  </style>\n",
              "\n",
              "      <script>\n",
              "        const buttonEl =\n",
              "          document.querySelector('#df-58586891-878a-4647-8e3b-ec32281ec548 button.colab-df-convert');\n",
              "        buttonEl.style.display =\n",
              "          google.colab.kernel.accessAllowed ? 'block' : 'none';\n",
              "\n",
              "        async function convertToInteractive(key) {\n",
              "          const element = document.querySelector('#df-58586891-878a-4647-8e3b-ec32281ec548');\n",
              "          const dataTable =\n",
              "            await google.colab.kernel.invokeFunction('convertToInteractive',\n",
              "                                                     [key], {});\n",
              "          if (!dataTable) return;\n",
              "\n",
              "          const docLinkHtml = 'Like what you see? Visit the ' +\n",
              "            '<a target=\"_blank\" href=https://colab.research.google.com/notebooks/data_table.ipynb>data table notebook</a>'\n",
              "            + ' to learn more about interactive tables.';\n",
              "          element.innerHTML = '';\n",
              "          dataTable['output_type'] = 'display_data';\n",
              "          await google.colab.output.renderOutput(dataTable, element);\n",
              "          const docLink = document.createElement('div');\n",
              "          docLink.innerHTML = docLinkHtml;\n",
              "          element.appendChild(docLink);\n",
              "        }\n",
              "      </script>\n",
              "    </div>\n",
              "  </div>\n",
              "  "
            ]
          },
          "metadata": {},
          "execution_count": 15
        }
      ]
    },
    {
      "cell_type": "code",
      "source": [
        "onlyPositive.drop(onlyPositive[onlyPositive['Unnamed: 0'] == 184].index, inplace = True)"
      ],
      "metadata": {
        "id": "zwLwWa1Z2tGp"
      },
      "execution_count": null,
      "outputs": []
    },
    {
      "cell_type": "code",
      "source": [
        "onlyPositive[onlyPositive['Title'].str.contains('Flying Fox Monitoring Project')]"
      ],
      "metadata": {
        "colab": {
          "base_uri": "https://localhost:8080/",
          "height": 100
        },
        "id": "I01PHBN62tRu",
        "outputId": "bbdf717c-d104-4e53-e9e0-32ddbc1c4d56"
      },
      "execution_count": null,
      "outputs": [
        {
          "output_type": "execute_result",
          "data": {
            "text/plain": [
              "     Unnamed: 0                          Title sentences  category_index\n",
              "459         460  Flying Fox Monitoring Project     [\"a\"]               1"
            ],
            "text/html": [
              "\n",
              "  <div id=\"df-09efa4ce-c063-4f31-9fc6-49291980b174\">\n",
              "    <div class=\"colab-df-container\">\n",
              "      <div>\n",
              "<style scoped>\n",
              "    .dataframe tbody tr th:only-of-type {\n",
              "        vertical-align: middle;\n",
              "    }\n",
              "\n",
              "    .dataframe tbody tr th {\n",
              "        vertical-align: top;\n",
              "    }\n",
              "\n",
              "    .dataframe thead th {\n",
              "        text-align: right;\n",
              "    }\n",
              "</style>\n",
              "<table border=\"1\" class=\"dataframe\">\n",
              "  <thead>\n",
              "    <tr style=\"text-align: right;\">\n",
              "      <th></th>\n",
              "      <th>Unnamed: 0</th>\n",
              "      <th>Title</th>\n",
              "      <th>sentences</th>\n",
              "      <th>category_index</th>\n",
              "    </tr>\n",
              "  </thead>\n",
              "  <tbody>\n",
              "    <tr>\n",
              "      <th>459</th>\n",
              "      <td>460</td>\n",
              "      <td>Flying Fox Monitoring Project</td>\n",
              "      <td>[\"a\"]</td>\n",
              "      <td>1</td>\n",
              "    </tr>\n",
              "  </tbody>\n",
              "</table>\n",
              "</div>\n",
              "      <button class=\"colab-df-convert\" onclick=\"convertToInteractive('df-09efa4ce-c063-4f31-9fc6-49291980b174')\"\n",
              "              title=\"Convert this dataframe to an interactive table.\"\n",
              "              style=\"display:none;\">\n",
              "        \n",
              "  <svg xmlns=\"http://www.w3.org/2000/svg\" height=\"24px\"viewBox=\"0 0 24 24\"\n",
              "       width=\"24px\">\n",
              "    <path d=\"M0 0h24v24H0V0z\" fill=\"none\"/>\n",
              "    <path d=\"M18.56 5.44l.94 2.06.94-2.06 2.06-.94-2.06-.94-.94-2.06-.94 2.06-2.06.94zm-11 1L8.5 8.5l.94-2.06 2.06-.94-2.06-.94L8.5 2.5l-.94 2.06-2.06.94zm10 10l.94 2.06.94-2.06 2.06-.94-2.06-.94-.94-2.06-.94 2.06-2.06.94z\"/><path d=\"M17.41 7.96l-1.37-1.37c-.4-.4-.92-.59-1.43-.59-.52 0-1.04.2-1.43.59L10.3 9.45l-7.72 7.72c-.78.78-.78 2.05 0 2.83L4 21.41c.39.39.9.59 1.41.59.51 0 1.02-.2 1.41-.59l7.78-7.78 2.81-2.81c.8-.78.8-2.07 0-2.86zM5.41 20L4 18.59l7.72-7.72 1.47 1.35L5.41 20z\"/>\n",
              "  </svg>\n",
              "      </button>\n",
              "      \n",
              "  <style>\n",
              "    .colab-df-container {\n",
              "      display:flex;\n",
              "      flex-wrap:wrap;\n",
              "      gap: 12px;\n",
              "    }\n",
              "\n",
              "    .colab-df-convert {\n",
              "      background-color: #E8F0FE;\n",
              "      border: none;\n",
              "      border-radius: 50%;\n",
              "      cursor: pointer;\n",
              "      display: none;\n",
              "      fill: #1967D2;\n",
              "      height: 32px;\n",
              "      padding: 0 0 0 0;\n",
              "      width: 32px;\n",
              "    }\n",
              "\n",
              "    .colab-df-convert:hover {\n",
              "      background-color: #E2EBFA;\n",
              "      box-shadow: 0px 1px 2px rgba(60, 64, 67, 0.3), 0px 1px 3px 1px rgba(60, 64, 67, 0.15);\n",
              "      fill: #174EA6;\n",
              "    }\n",
              "\n",
              "    [theme=dark] .colab-df-convert {\n",
              "      background-color: #3B4455;\n",
              "      fill: #D2E3FC;\n",
              "    }\n",
              "\n",
              "    [theme=dark] .colab-df-convert:hover {\n",
              "      background-color: #434B5C;\n",
              "      box-shadow: 0px 1px 3px 1px rgba(0, 0, 0, 0.15);\n",
              "      filter: drop-shadow(0px 1px 2px rgba(0, 0, 0, 0.3));\n",
              "      fill: #FFFFFF;\n",
              "    }\n",
              "  </style>\n",
              "\n",
              "      <script>\n",
              "        const buttonEl =\n",
              "          document.querySelector('#df-09efa4ce-c063-4f31-9fc6-49291980b174 button.colab-df-convert');\n",
              "        buttonEl.style.display =\n",
              "          google.colab.kernel.accessAllowed ? 'block' : 'none';\n",
              "\n",
              "        async function convertToInteractive(key) {\n",
              "          const element = document.querySelector('#df-09efa4ce-c063-4f31-9fc6-49291980b174');\n",
              "          const dataTable =\n",
              "            await google.colab.kernel.invokeFunction('convertToInteractive',\n",
              "                                                     [key], {});\n",
              "          if (!dataTable) return;\n",
              "\n",
              "          const docLinkHtml = 'Like what you see? Visit the ' +\n",
              "            '<a target=\"_blank\" href=https://colab.research.google.com/notebooks/data_table.ipynb>data table notebook</a>'\n",
              "            + ' to learn more about interactive tables.';\n",
              "          element.innerHTML = '';\n",
              "          dataTable['output_type'] = 'display_data';\n",
              "          await google.colab.output.renderOutput(dataTable, element);\n",
              "          const docLink = document.createElement('div');\n",
              "          docLink.innerHTML = docLinkHtml;\n",
              "          element.appendChild(docLink);\n",
              "        }\n",
              "      </script>\n",
              "    </div>\n",
              "  </div>\n",
              "  "
            ]
          },
          "metadata": {},
          "execution_count": 17
        }
      ]
    },
    {
      "cell_type": "code",
      "source": [
        "onlyPositive.drop(onlyPositive[onlyPositive['Unnamed: 0'] == 460].index, inplace = True)"
      ],
      "metadata": {
        "id": "o3Mo_knf2tWY"
      },
      "execution_count": null,
      "outputs": []
    },
    {
      "cell_type": "code",
      "source": [
        "onlyPositive[onlyPositive['Title'].str.contains('DO NOT USE - Draft Monitoring Nesting Behaviour - Coastal Raptor Nests in Redland City')]"
      ],
      "metadata": {
        "colab": {
          "base_uri": "https://localhost:8080/",
          "height": 100
        },
        "id": "vopN_xWM2tam",
        "outputId": "2d8c0d6e-61c3-4fa5-ce69-337f72d4c1ef"
      },
      "execution_count": null,
      "outputs": [
        {
          "output_type": "execute_result",
          "data": {
            "text/plain": [
              "     Unnamed: 0                                              Title sentences  \\\n",
              "592         593  DO NOT USE - Draft Monitoring Nesting Behaviou...  [\"Null\"]   \n",
              "\n",
              "     category_index  \n",
              "592               1  "
            ],
            "text/html": [
              "\n",
              "  <div id=\"df-3c05388c-035c-4d4e-83a5-44056c188fa4\">\n",
              "    <div class=\"colab-df-container\">\n",
              "      <div>\n",
              "<style scoped>\n",
              "    .dataframe tbody tr th:only-of-type {\n",
              "        vertical-align: middle;\n",
              "    }\n",
              "\n",
              "    .dataframe tbody tr th {\n",
              "        vertical-align: top;\n",
              "    }\n",
              "\n",
              "    .dataframe thead th {\n",
              "        text-align: right;\n",
              "    }\n",
              "</style>\n",
              "<table border=\"1\" class=\"dataframe\">\n",
              "  <thead>\n",
              "    <tr style=\"text-align: right;\">\n",
              "      <th></th>\n",
              "      <th>Unnamed: 0</th>\n",
              "      <th>Title</th>\n",
              "      <th>sentences</th>\n",
              "      <th>category_index</th>\n",
              "    </tr>\n",
              "  </thead>\n",
              "  <tbody>\n",
              "    <tr>\n",
              "      <th>592</th>\n",
              "      <td>593</td>\n",
              "      <td>DO NOT USE - Draft Monitoring Nesting Behaviou...</td>\n",
              "      <td>[\"Null\"]</td>\n",
              "      <td>1</td>\n",
              "    </tr>\n",
              "  </tbody>\n",
              "</table>\n",
              "</div>\n",
              "      <button class=\"colab-df-convert\" onclick=\"convertToInteractive('df-3c05388c-035c-4d4e-83a5-44056c188fa4')\"\n",
              "              title=\"Convert this dataframe to an interactive table.\"\n",
              "              style=\"display:none;\">\n",
              "        \n",
              "  <svg xmlns=\"http://www.w3.org/2000/svg\" height=\"24px\"viewBox=\"0 0 24 24\"\n",
              "       width=\"24px\">\n",
              "    <path d=\"M0 0h24v24H0V0z\" fill=\"none\"/>\n",
              "    <path d=\"M18.56 5.44l.94 2.06.94-2.06 2.06-.94-2.06-.94-.94-2.06-.94 2.06-2.06.94zm-11 1L8.5 8.5l.94-2.06 2.06-.94-2.06-.94L8.5 2.5l-.94 2.06-2.06.94zm10 10l.94 2.06.94-2.06 2.06-.94-2.06-.94-.94-2.06-.94 2.06-2.06.94z\"/><path d=\"M17.41 7.96l-1.37-1.37c-.4-.4-.92-.59-1.43-.59-.52 0-1.04.2-1.43.59L10.3 9.45l-7.72 7.72c-.78.78-.78 2.05 0 2.83L4 21.41c.39.39.9.59 1.41.59.51 0 1.02-.2 1.41-.59l7.78-7.78 2.81-2.81c.8-.78.8-2.07 0-2.86zM5.41 20L4 18.59l7.72-7.72 1.47 1.35L5.41 20z\"/>\n",
              "  </svg>\n",
              "      </button>\n",
              "      \n",
              "  <style>\n",
              "    .colab-df-container {\n",
              "      display:flex;\n",
              "      flex-wrap:wrap;\n",
              "      gap: 12px;\n",
              "    }\n",
              "\n",
              "    .colab-df-convert {\n",
              "      background-color: #E8F0FE;\n",
              "      border: none;\n",
              "      border-radius: 50%;\n",
              "      cursor: pointer;\n",
              "      display: none;\n",
              "      fill: #1967D2;\n",
              "      height: 32px;\n",
              "      padding: 0 0 0 0;\n",
              "      width: 32px;\n",
              "    }\n",
              "\n",
              "    .colab-df-convert:hover {\n",
              "      background-color: #E2EBFA;\n",
              "      box-shadow: 0px 1px 2px rgba(60, 64, 67, 0.3), 0px 1px 3px 1px rgba(60, 64, 67, 0.15);\n",
              "      fill: #174EA6;\n",
              "    }\n",
              "\n",
              "    [theme=dark] .colab-df-convert {\n",
              "      background-color: #3B4455;\n",
              "      fill: #D2E3FC;\n",
              "    }\n",
              "\n",
              "    [theme=dark] .colab-df-convert:hover {\n",
              "      background-color: #434B5C;\n",
              "      box-shadow: 0px 1px 3px 1px rgba(0, 0, 0, 0.15);\n",
              "      filter: drop-shadow(0px 1px 2px rgba(0, 0, 0, 0.3));\n",
              "      fill: #FFFFFF;\n",
              "    }\n",
              "  </style>\n",
              "\n",
              "      <script>\n",
              "        const buttonEl =\n",
              "          document.querySelector('#df-3c05388c-035c-4d4e-83a5-44056c188fa4 button.colab-df-convert');\n",
              "        buttonEl.style.display =\n",
              "          google.colab.kernel.accessAllowed ? 'block' : 'none';\n",
              "\n",
              "        async function convertToInteractive(key) {\n",
              "          const element = document.querySelector('#df-3c05388c-035c-4d4e-83a5-44056c188fa4');\n",
              "          const dataTable =\n",
              "            await google.colab.kernel.invokeFunction('convertToInteractive',\n",
              "                                                     [key], {});\n",
              "          if (!dataTable) return;\n",
              "\n",
              "          const docLinkHtml = 'Like what you see? Visit the ' +\n",
              "            '<a target=\"_blank\" href=https://colab.research.google.com/notebooks/data_table.ipynb>data table notebook</a>'\n",
              "            + ' to learn more about interactive tables.';\n",
              "          element.innerHTML = '';\n",
              "          dataTable['output_type'] = 'display_data';\n",
              "          await google.colab.output.renderOutput(dataTable, element);\n",
              "          const docLink = document.createElement('div');\n",
              "          docLink.innerHTML = docLinkHtml;\n",
              "          element.appendChild(docLink);\n",
              "        }\n",
              "      </script>\n",
              "    </div>\n",
              "  </div>\n",
              "  "
            ]
          },
          "metadata": {},
          "execution_count": 19
        }
      ]
    },
    {
      "cell_type": "code",
      "source": [
        "onlyPositive.drop(onlyPositive[onlyPositive['Unnamed: 0'] == 593].index, inplace = True)"
      ],
      "metadata": {
        "id": "N_tTHI712tfK"
      },
      "execution_count": null,
      "outputs": []
    },
    {
      "cell_type": "code",
      "source": [
        "onlyPositive[onlyPositive['Title'].str.contains('Monitoring Nesting Behaviour - Coastal Raptor Nests in Redland City')]"
      ],
      "metadata": {
        "colab": {
          "base_uri": "https://localhost:8080/",
          "height": 100
        },
        "id": "Dm88M3f12tj9",
        "outputId": "22d242ac-c1ff-4995-92db-9b0f3cb63852"
      },
      "execution_count": null,
      "outputs": [
        {
          "output_type": "execute_result",
          "data": {
            "text/plain": [
              "      Unnamed: 0                                              Title sentences  \\\n",
              "1311        1312  Monitoring Nesting Behaviour - Coastal Raptor ...  [\"Null\"]   \n",
              "\n",
              "      category_index  \n",
              "1311               1  "
            ],
            "text/html": [
              "\n",
              "  <div id=\"df-58e23abd-f9d4-478c-89d8-8422cb1fc460\">\n",
              "    <div class=\"colab-df-container\">\n",
              "      <div>\n",
              "<style scoped>\n",
              "    .dataframe tbody tr th:only-of-type {\n",
              "        vertical-align: middle;\n",
              "    }\n",
              "\n",
              "    .dataframe tbody tr th {\n",
              "        vertical-align: top;\n",
              "    }\n",
              "\n",
              "    .dataframe thead th {\n",
              "        text-align: right;\n",
              "    }\n",
              "</style>\n",
              "<table border=\"1\" class=\"dataframe\">\n",
              "  <thead>\n",
              "    <tr style=\"text-align: right;\">\n",
              "      <th></th>\n",
              "      <th>Unnamed: 0</th>\n",
              "      <th>Title</th>\n",
              "      <th>sentences</th>\n",
              "      <th>category_index</th>\n",
              "    </tr>\n",
              "  </thead>\n",
              "  <tbody>\n",
              "    <tr>\n",
              "      <th>1311</th>\n",
              "      <td>1312</td>\n",
              "      <td>Monitoring Nesting Behaviour - Coastal Raptor ...</td>\n",
              "      <td>[\"Null\"]</td>\n",
              "      <td>1</td>\n",
              "    </tr>\n",
              "  </tbody>\n",
              "</table>\n",
              "</div>\n",
              "      <button class=\"colab-df-convert\" onclick=\"convertToInteractive('df-58e23abd-f9d4-478c-89d8-8422cb1fc460')\"\n",
              "              title=\"Convert this dataframe to an interactive table.\"\n",
              "              style=\"display:none;\">\n",
              "        \n",
              "  <svg xmlns=\"http://www.w3.org/2000/svg\" height=\"24px\"viewBox=\"0 0 24 24\"\n",
              "       width=\"24px\">\n",
              "    <path d=\"M0 0h24v24H0V0z\" fill=\"none\"/>\n",
              "    <path d=\"M18.56 5.44l.94 2.06.94-2.06 2.06-.94-2.06-.94-.94-2.06-.94 2.06-2.06.94zm-11 1L8.5 8.5l.94-2.06 2.06-.94-2.06-.94L8.5 2.5l-.94 2.06-2.06.94zm10 10l.94 2.06.94-2.06 2.06-.94-2.06-.94-.94-2.06-.94 2.06-2.06.94z\"/><path d=\"M17.41 7.96l-1.37-1.37c-.4-.4-.92-.59-1.43-.59-.52 0-1.04.2-1.43.59L10.3 9.45l-7.72 7.72c-.78.78-.78 2.05 0 2.83L4 21.41c.39.39.9.59 1.41.59.51 0 1.02-.2 1.41-.59l7.78-7.78 2.81-2.81c.8-.78.8-2.07 0-2.86zM5.41 20L4 18.59l7.72-7.72 1.47 1.35L5.41 20z\"/>\n",
              "  </svg>\n",
              "      </button>\n",
              "      \n",
              "  <style>\n",
              "    .colab-df-container {\n",
              "      display:flex;\n",
              "      flex-wrap:wrap;\n",
              "      gap: 12px;\n",
              "    }\n",
              "\n",
              "    .colab-df-convert {\n",
              "      background-color: #E8F0FE;\n",
              "      border: none;\n",
              "      border-radius: 50%;\n",
              "      cursor: pointer;\n",
              "      display: none;\n",
              "      fill: #1967D2;\n",
              "      height: 32px;\n",
              "      padding: 0 0 0 0;\n",
              "      width: 32px;\n",
              "    }\n",
              "\n",
              "    .colab-df-convert:hover {\n",
              "      background-color: #E2EBFA;\n",
              "      box-shadow: 0px 1px 2px rgba(60, 64, 67, 0.3), 0px 1px 3px 1px rgba(60, 64, 67, 0.15);\n",
              "      fill: #174EA6;\n",
              "    }\n",
              "\n",
              "    [theme=dark] .colab-df-convert {\n",
              "      background-color: #3B4455;\n",
              "      fill: #D2E3FC;\n",
              "    }\n",
              "\n",
              "    [theme=dark] .colab-df-convert:hover {\n",
              "      background-color: #434B5C;\n",
              "      box-shadow: 0px 1px 3px 1px rgba(0, 0, 0, 0.15);\n",
              "      filter: drop-shadow(0px 1px 2px rgba(0, 0, 0, 0.3));\n",
              "      fill: #FFFFFF;\n",
              "    }\n",
              "  </style>\n",
              "\n",
              "      <script>\n",
              "        const buttonEl =\n",
              "          document.querySelector('#df-58e23abd-f9d4-478c-89d8-8422cb1fc460 button.colab-df-convert');\n",
              "        buttonEl.style.display =\n",
              "          google.colab.kernel.accessAllowed ? 'block' : 'none';\n",
              "\n",
              "        async function convertToInteractive(key) {\n",
              "          const element = document.querySelector('#df-58e23abd-f9d4-478c-89d8-8422cb1fc460');\n",
              "          const dataTable =\n",
              "            await google.colab.kernel.invokeFunction('convertToInteractive',\n",
              "                                                     [key], {});\n",
              "          if (!dataTable) return;\n",
              "\n",
              "          const docLinkHtml = 'Like what you see? Visit the ' +\n",
              "            '<a target=\"_blank\" href=https://colab.research.google.com/notebooks/data_table.ipynb>data table notebook</a>'\n",
              "            + ' to learn more about interactive tables.';\n",
              "          element.innerHTML = '';\n",
              "          dataTable['output_type'] = 'display_data';\n",
              "          await google.colab.output.renderOutput(dataTable, element);\n",
              "          const docLink = document.createElement('div');\n",
              "          docLink.innerHTML = docLinkHtml;\n",
              "          element.appendChild(docLink);\n",
              "        }\n",
              "      </script>\n",
              "    </div>\n",
              "  </div>\n",
              "  "
            ]
          },
          "metadata": {},
          "execution_count": 21
        }
      ]
    },
    {
      "cell_type": "code",
      "source": [
        "onlyPositive.drop(onlyPositive[onlyPositive['Unnamed: 0'] == 1312].index, inplace = True)"
      ],
      "metadata": {
        "id": "klclHZva2tsa"
      },
      "execution_count": null,
      "outputs": []
    },
    {
      "cell_type": "code",
      "source": [
        "onlyPositive[onlyPositive['Title'].str.contains('Downeast Maine Shellfish Sustainability Project')]"
      ],
      "metadata": {
        "colab": {
          "base_uri": "https://localhost:8080/",
          "height": 100
        },
        "id": "p7jso69S2t3d",
        "outputId": "d3dbbb0e-d660-4bde-c0bf-6e4bbcaf1c9d"
      },
      "execution_count": null,
      "outputs": [
        {
          "output_type": "execute_result",
          "data": {
            "text/plain": [
              "      Unnamed: 0                                            Title sentences  \\\n",
              "2757        2759  Downeast Maine Shellfish Sustainability Project        []   \n",
              "\n",
              "      category_index  \n",
              "2757               1  "
            ],
            "text/html": [
              "\n",
              "  <div id=\"df-89938521-5618-47e2-9389-cb1174cca3ca\">\n",
              "    <div class=\"colab-df-container\">\n",
              "      <div>\n",
              "<style scoped>\n",
              "    .dataframe tbody tr th:only-of-type {\n",
              "        vertical-align: middle;\n",
              "    }\n",
              "\n",
              "    .dataframe tbody tr th {\n",
              "        vertical-align: top;\n",
              "    }\n",
              "\n",
              "    .dataframe thead th {\n",
              "        text-align: right;\n",
              "    }\n",
              "</style>\n",
              "<table border=\"1\" class=\"dataframe\">\n",
              "  <thead>\n",
              "    <tr style=\"text-align: right;\">\n",
              "      <th></th>\n",
              "      <th>Unnamed: 0</th>\n",
              "      <th>Title</th>\n",
              "      <th>sentences</th>\n",
              "      <th>category_index</th>\n",
              "    </tr>\n",
              "  </thead>\n",
              "  <tbody>\n",
              "    <tr>\n",
              "      <th>2757</th>\n",
              "      <td>2759</td>\n",
              "      <td>Downeast Maine Shellfish Sustainability Project</td>\n",
              "      <td>[]</td>\n",
              "      <td>1</td>\n",
              "    </tr>\n",
              "  </tbody>\n",
              "</table>\n",
              "</div>\n",
              "      <button class=\"colab-df-convert\" onclick=\"convertToInteractive('df-89938521-5618-47e2-9389-cb1174cca3ca')\"\n",
              "              title=\"Convert this dataframe to an interactive table.\"\n",
              "              style=\"display:none;\">\n",
              "        \n",
              "  <svg xmlns=\"http://www.w3.org/2000/svg\" height=\"24px\"viewBox=\"0 0 24 24\"\n",
              "       width=\"24px\">\n",
              "    <path d=\"M0 0h24v24H0V0z\" fill=\"none\"/>\n",
              "    <path d=\"M18.56 5.44l.94 2.06.94-2.06 2.06-.94-2.06-.94-.94-2.06-.94 2.06-2.06.94zm-11 1L8.5 8.5l.94-2.06 2.06-.94-2.06-.94L8.5 2.5l-.94 2.06-2.06.94zm10 10l.94 2.06.94-2.06 2.06-.94-2.06-.94-.94-2.06-.94 2.06-2.06.94z\"/><path d=\"M17.41 7.96l-1.37-1.37c-.4-.4-.92-.59-1.43-.59-.52 0-1.04.2-1.43.59L10.3 9.45l-7.72 7.72c-.78.78-.78 2.05 0 2.83L4 21.41c.39.39.9.59 1.41.59.51 0 1.02-.2 1.41-.59l7.78-7.78 2.81-2.81c.8-.78.8-2.07 0-2.86zM5.41 20L4 18.59l7.72-7.72 1.47 1.35L5.41 20z\"/>\n",
              "  </svg>\n",
              "      </button>\n",
              "      \n",
              "  <style>\n",
              "    .colab-df-container {\n",
              "      display:flex;\n",
              "      flex-wrap:wrap;\n",
              "      gap: 12px;\n",
              "    }\n",
              "\n",
              "    .colab-df-convert {\n",
              "      background-color: #E8F0FE;\n",
              "      border: none;\n",
              "      border-radius: 50%;\n",
              "      cursor: pointer;\n",
              "      display: none;\n",
              "      fill: #1967D2;\n",
              "      height: 32px;\n",
              "      padding: 0 0 0 0;\n",
              "      width: 32px;\n",
              "    }\n",
              "\n",
              "    .colab-df-convert:hover {\n",
              "      background-color: #E2EBFA;\n",
              "      box-shadow: 0px 1px 2px rgba(60, 64, 67, 0.3), 0px 1px 3px 1px rgba(60, 64, 67, 0.15);\n",
              "      fill: #174EA6;\n",
              "    }\n",
              "\n",
              "    [theme=dark] .colab-df-convert {\n",
              "      background-color: #3B4455;\n",
              "      fill: #D2E3FC;\n",
              "    }\n",
              "\n",
              "    [theme=dark] .colab-df-convert:hover {\n",
              "      background-color: #434B5C;\n",
              "      box-shadow: 0px 1px 3px 1px rgba(0, 0, 0, 0.15);\n",
              "      filter: drop-shadow(0px 1px 2px rgba(0, 0, 0, 0.3));\n",
              "      fill: #FFFFFF;\n",
              "    }\n",
              "  </style>\n",
              "\n",
              "      <script>\n",
              "        const buttonEl =\n",
              "          document.querySelector('#df-89938521-5618-47e2-9389-cb1174cca3ca button.colab-df-convert');\n",
              "        buttonEl.style.display =\n",
              "          google.colab.kernel.accessAllowed ? 'block' : 'none';\n",
              "\n",
              "        async function convertToInteractive(key) {\n",
              "          const element = document.querySelector('#df-89938521-5618-47e2-9389-cb1174cca3ca');\n",
              "          const dataTable =\n",
              "            await google.colab.kernel.invokeFunction('convertToInteractive',\n",
              "                                                     [key], {});\n",
              "          if (!dataTable) return;\n",
              "\n",
              "          const docLinkHtml = 'Like what you see? Visit the ' +\n",
              "            '<a target=\"_blank\" href=https://colab.research.google.com/notebooks/data_table.ipynb>data table notebook</a>'\n",
              "            + ' to learn more about interactive tables.';\n",
              "          element.innerHTML = '';\n",
              "          dataTable['output_type'] = 'display_data';\n",
              "          await google.colab.output.renderOutput(dataTable, element);\n",
              "          const docLink = document.createElement('div');\n",
              "          docLink.innerHTML = docLinkHtml;\n",
              "          element.appendChild(docLink);\n",
              "        }\n",
              "      </script>\n",
              "    </div>\n",
              "  </div>\n",
              "  "
            ]
          },
          "metadata": {},
          "execution_count": 23
        }
      ]
    },
    {
      "cell_type": "code",
      "source": [
        "onlyPositive.drop(onlyPositive[onlyPositive['Unnamed: 0'] == 2759].index, inplace = True)"
      ],
      "metadata": {
        "id": "fe7G9Mhe2t9-"
      },
      "execution_count": null,
      "outputs": []
    },
    {
      "cell_type": "code",
      "source": [
        "#processing project descriptions\n",
        "\n",
        "\n",
        "\n",
        "# Use English stemmer\n",
        "stemmer = SnowballStemmer(\"english\")\n",
        "\n",
        "# Split the sentences to lists of words.\n",
        "onlyPositive['unstemmed'] = onlyPositive['sentences'].str.split()\n",
        "\n",
        "# Stem every word.\n",
        "onlyPositive['stemmed'] = onlyPositive['unstemmed'].apply(lambda x: [stemmer.stem(y) for y in x]) \n",
        "\n",
        "onlyPositive = onlyPositive.drop(columns=['unstemmed']) \n",
        "\n",
        "#onlyPositive.head()\n",
        "\n",
        "onlyPositive['stop'] = onlyPositive['stemmed'].apply(lambda x: [item for item in x if item not in stop])\n",
        "\n",
        "#onlyPositive.to_csv('all.csv')\n",
        "\n",
        "selected_words_after_stemming=['collect','search','record','identify','observ','find','count','enter','note','transcrib','share','answer','locat','discuss','analys','insert','comment','measurements'] \n",
        "#len(selected_words_after_stemming)"
      ],
      "metadata": {
        "id": "7DNWOoaq2uDu"
      },
      "execution_count": null,
      "outputs": []
    },
    {
      "cell_type": "code",
      "source": [
        "#Create a summary of learning skills mentioned in each project description (positive sample)\n",
        "\n",
        "titles =  len(onlyPositive.axes[0])\n",
        "df_all = []\n",
        "df_stats = {}\n",
        "\n",
        "import pandas as pd\n",
        "\n",
        "#output = {}\n",
        "\n",
        "for i in range(0,titles):\n",
        "  splited_words = onlyPositive['stop'].iloc[i]\n",
        "  df2 = pd.DataFrame(splited_words,columns=[onlyPositive['Title'].iloc[i]])\n",
        "  df_all.append(df2)\n",
        "  \n",
        "#print(df_all[55])"
      ],
      "metadata": {
        "id": "JwC0QBOM2uJ5"
      },
      "execution_count": null,
      "outputs": []
    },
    {
      "cell_type": "code",
      "source": [
        "for df in df_all:\n",
        "  df_col_name = df.columns.values.tolist()[0]\n",
        "  outDict = {}\n",
        "  #print(df[column_name])\n",
        "  for word in selected_words_after_stemming:\n",
        "    outDict[word] = df[df_col_name].str.contains(word).sum()\n",
        "  df_stats[df_col_name] = outDict"
      ],
      "metadata": {
        "id": "ooddgHQy2uO1"
      },
      "execution_count": null,
      "outputs": []
    },
    {
      "cell_type": "code",
      "source": [
        "finalCounts = pd.DataFrame.from_dict(df_stats) \n",
        "finalCounts.to_csv ('resultsCount.csv', index = True, header=True)"
      ],
      "metadata": {
        "id": "aPNoIiQr4NEO"
      },
      "execution_count": null,
      "outputs": []
    },
    {
      "cell_type": "code",
      "source": [
        "calc = pd.read_csv(\"/content/resultsCount.csv\") \n",
        "\n",
        "calc.rename(columns = {'Unnamed: 0':'keyWords'}, inplace = True)\n",
        "\n",
        "calc['keyWords'].shape"
      ],
      "metadata": {
        "colab": {
          "base_uri": "https://localhost:8080/"
        },
        "id": "aP8JEPPS4QF1",
        "outputId": "4f742957-4822-4559-ae70-4320060a309f"
      },
      "execution_count": null,
      "outputs": [
        {
          "output_type": "execute_result",
          "data": {
            "text/plain": [
              "(18,)"
            ]
          },
          "metadata": {},
          "execution_count": 29
        }
      ]
    },
    {
      "cell_type": "code",
      "source": [
        "#copy calc to df2 except 1st column\n",
        "df2 = calc.iloc[:,1:] \n",
        "\n",
        "#replace any value greater than 0 to 1 and count\n",
        "df2[df2 > 0] = 1 \n",
        "\n",
        "#add skills column back\n",
        "skills = calc['keyWords'] \n",
        "df2 = df2.join(skills)\n",
        "\n",
        "#count number of projects with skills\n",
        "df2[\"project_count\"] = df2.sum(axis=1)\n",
        "\n",
        "#df2.head()"
      ],
      "metadata": {
        "id": "Cf-G1bfJ4QLs"
      },
      "execution_count": null,
      "outputs": []
    },
    {
      "cell_type": "code",
      "source": [
        "# Select last 2 columns to plot\n",
        "requiredData = df2.iloc[:,-2:]"
      ],
      "metadata": {
        "id": "jczHUUGd4QQ1"
      },
      "execution_count": null,
      "outputs": []
    },
    {
      "cell_type": "code",
      "source": [
        "fill_out = onlyPositive[onlyPositive['sentences'].str.contains('fill out', regex=False, case=False)] #case=False - irrespective of the case \n",
        "\n",
        "come_up_with = onlyPositive[onlyPositive['sentences'].str.contains('come up with', regex=False, case=False)] #case=False - irrespective of the case "
      ],
      "metadata": {
        "id": "ML1_B6Hu4QXy"
      },
      "execution_count": null,
      "outputs": []
    },
    {
      "cell_type": "code",
      "source": [
        "#appearence of fill out in project descriptions\n",
        "fill_out.sentences.str.count(\"fill out\")\n",
        "\n",
        "#projects with fill out\n",
        "\n",
        "# 199 -  Bird Cams Lab\n",
        "# 254 -  The Manta Rays of Kona Hawaii\n",
        "# 812 -  Target Asteroids!\n",
        "# 1092 -  The Great Sunflower Project\n",
        "# 1352   - Volunteer Monthly Monitoring\n",
        "# 1467   - Nature's Notebook\n",
        "# 1506    - Discover Earth\n",
        "# 2715    - Triangle Bird Count\n",
        "# 2839    - NC State FW221_Spring2021\n",
        "\n",
        "fill = fill_out['sentences'].str.count('fill out').sum()\n",
        "fill"
      ],
      "metadata": {
        "colab": {
          "base_uri": "https://localhost:8080/"
        },
        "id": "J-x-IsIv4QdN",
        "outputId": "70fc8bce-947f-467b-d95b-ec4baa282886"
      },
      "execution_count": null,
      "outputs": [
        {
          "output_type": "execute_result",
          "data": {
            "text/plain": [
              "9"
            ]
          },
          "metadata": {},
          "execution_count": 33
        }
      ]
    },
    {
      "cell_type": "code",
      "source": [
        "#appearence of come up with in project descriptions\n",
        "come_up_with.sentences.str.count(\"come up with\")\n",
        "\n",
        "#number of projets - come up with\n",
        "come_up_with['sentences'].str.count('come up with').sum()"
      ],
      "metadata": {
        "colab": {
          "base_uri": "https://localhost:8080/"
        },
        "id": "sKDWqk8p5QDJ",
        "outputId": "f076b461-f6de-4f21-d80a-c868de8afe1c"
      },
      "execution_count": null,
      "outputs": [
        {
          "output_type": "execute_result",
          "data": {
            "text/plain": [
              "1"
            ]
          },
          "metadata": {},
          "execution_count": 34
        }
      ]
    },
    {
      "cell_type": "code",
      "source": [
        "#define second DataFrame\n",
        "new = pd.DataFrame({'keyWords': ['fill out', 'come up with'],\n",
        "                    'project_count': [9, 1]})\n",
        "\n",
        "#add new row to end of DataFrame\n",
        "requiredData = requiredData.append(new, ignore_index = True)\n",
        "\n",
        "#requiredData.to_csv('db_classify.csv')"
      ],
      "metadata": {
        "id": "94Ke7-dh5QNO"
      },
      "execution_count": null,
      "outputs": []
    },
    {
      "cell_type": "code",
      "source": [
        "requiredData = requiredData.sort_values(by='project_count', ascending=False)\n",
        "\n",
        "# Declare a list with complete name of the skill\n",
        "spelling = ['Collect', 'Search', 'Observe', 'Find', 'Record', 'Count', 'Locate', 'Share', 'Analyse',  'Enter', 'Answer', 'Note', 'Discuss', 'Fill out', 'Comment', 'Transcribe' ,'Identify', 'Measurements', 'Insert','Come up with']\n",
        "requiredData['Full_Keyword'] = spelling"
      ],
      "metadata": {
        "id": "39tCslMV5QXn"
      },
      "execution_count": null,
      "outputs": []
    },
    {
      "cell_type": "code",
      "source": [
        "sns.set_style(\"darkgrid\")\n",
        "\n",
        "sns.set(font_scale=2)\n",
        "\n",
        "plt.rcParams[\"figure.figsize\"] = (16,10)\n",
        "\n",
        "labels = requiredData.Full_Keyword\n",
        "\n",
        "ax = sns.barplot(x=requiredData.Full_Keyword, y=requiredData.project_count, color='#42b7bd') \n",
        "\n",
        "ax.set_xticklabels(labels, rotation=90, horizontalalignment=\"center\")\n",
        "\n",
        "plt.title(\"Prediction Results\")\n",
        "ax.set_xlabel(\"Related Keywords\")\n",
        "ax.set_ylabel(\"No. of Projects promoting a particular skill\")\n",
        "\n",
        "sns.set_color_codes('muted')\n",
        "\n",
        "for bar in ax.patches:\n",
        "    if bar.get_height() == 101: #count\n",
        "        bar.set_color('#a834a8')    \n",
        "    if bar.get_height() == 46:    #enter\n",
        "        bar.set_color('#a834a8')\n",
        "    if bar.get_height() == 32:    #answer\n",
        "        bar.set_color('#a834a8')\n",
        "    if bar.get_height() == 24:   #note\n",
        "        bar.set_color('#a834a8')\n"
      ],
      "metadata": {
        "colab": {
          "base_uri": "https://localhost:8080/",
          "height": 822
        },
        "id": "GQjKPc4I5Q6R",
        "outputId": "ffd2f302-e10c-4c2b-bc35-5a6037b8db1c"
      },
      "execution_count": null,
      "outputs": [
        {
          "output_type": "display_data",
          "data": {
            "text/plain": [
              "<Figure size 1152x720 with 1 Axes>"
            ],
            "image/png": "[encoded data removed]"
          },
          "metadata": {}
        }
      ]
    },
    {
      "cell_type": "markdown",
      "source": [
        "#### Q2: What is the distribution of skills in CS Platforms?**"
      ],
      "metadata": {
        "id": "8ui86_4s8-Ik"
      }
    },
    {
      "cell_type": "code",
      "source": [
        "#read data with platform details\n",
        "data = pd.read_csv('/content/drive/Shareddrives/TIDE CS-Track (interna)/D2.2/to-github-skills/cluster_projects.csv')\n",
        "data"
      ],
      "metadata": {
        "colab": {
          "base_uri": "https://localhost:8080/",
          "height": 622
        },
        "id": "a_Cy1Zy489H7",
        "outputId": "a4d8ac8b-ea28-4c2b-ba3f-02effe58b675"
      },
      "execution_count": null,
      "outputs": [
        {
          "output_type": "execute_result",
          "data": {
            "text/plain": [
              "      No         Platform                             Project  collect  \\\n",
              "0      1       Zooniverse             MATURITY OF BABY SOUNDS        0   \n",
              "1      2  cienciacidadapt                       PLANT LETTERS        1   \n",
              "2      2       Zooniverse                       PLANT LETTERS        1   \n",
              "3      3       Zooniverse       CEDAR CREEK: EYES ON THE WILD        1   \n",
              "4      4       Zooniverse                SNAPSHOT HOGE VELUWE        1   \n",
              "..   ...              ...                                 ...      ...   \n",
              "451  434       Scistarter                 Crowdsourcing Cures        1   \n",
              "452  435       Scistarter                    crea.blender SDG        0   \n",
              "453  436       Scistarter  NYBG Virtual Herbarium Expeditions        1   \n",
              "454  437            inrae                     Tree Bodyguards        0   \n",
              "455  438         its4land                            its4land        0   \n",
              "\n",
              "     search  record  identify  observ  find  count  ...  share  answer  locat  \\\n",
              "0         1       1         0       0     1      1  ...      0       1      1   \n",
              "1         0       1         0       0     0      1  ...      0       0      1   \n",
              "2         0       1         0       0     0      1  ...      0       0      1   \n",
              "3         1       0         0       0     1      1  ...      1       1      1   \n",
              "4         1       1         0       1     1      1  ...      1       1      1   \n",
              "..      ...     ...       ...     ...   ...    ...  ...    ...     ...    ...   \n",
              "451       0       1         0       0     0      0  ...      0       0      0   \n",
              "452       0       0         0       0     0      0  ...      0       0      0   \n",
              "453       1       1         0       0     1      0  ...      1       0      1   \n",
              "454       0       0         0       1     0      1  ...      0       0      0   \n",
              "455       1       1         0       0     0      1  ...      0       0      0   \n",
              "\n",
              "     discuss  analys  insert  comment  measurements  fill out  come up with  \n",
              "0          0       0       0        0             0         0             0  \n",
              "1          0       0       0        0             0         0             0  \n",
              "2          0       0       0        0             0         0             0  \n",
              "3          1       0       0        0             0         0             0  \n",
              "4          1       1       0        1             0         0             0  \n",
              "..       ...     ...     ...      ...           ...       ...           ...  \n",
              "451        0       0       0        0             0         0             0  \n",
              "452        0       0       0        0             0         0             0  \n",
              "453        0       0       0        0             0         0             0  \n",
              "454        0       0       0        0             0         0             0  \n",
              "455        0       1       0        0             0         0             0  \n",
              "\n",
              "[456 rows x 23 columns]"
            ],
            "text/html": [
              "\n",
              "  <div id=\"df-9a10388b-acd0-47bb-9608-630acd832605\">\n",
              "    <div class=\"colab-df-container\">\n",
              "      <div>\n",
              "<style scoped>\n",
              "    .dataframe tbody tr th:only-of-type {\n",
              "        vertical-align: middle;\n",
              "    }\n",
              "\n",
              "    .dataframe tbody tr th {\n",
              "        vertical-align: top;\n",
              "    }\n",
              "\n",
              "    .dataframe thead th {\n",
              "        text-align: right;\n",
              "    }\n",
              "</style>\n",
              "<table border=\"1\" class=\"dataframe\">\n",
              "  <thead>\n",
              "    <tr style=\"text-align: right;\">\n",
              "      <th></th>\n",
              "      <th>No</th>\n",
              "      <th>Platform</th>\n",
              "      <th>Project</th>\n",
              "      <th>collect</th>\n",
              "      <th>search</th>\n",
              "      <th>record</th>\n",
              "      <th>identify</th>\n",
              "      <th>observ</th>\n",
              "      <th>find</th>\n",
              "      <th>count</th>\n",
              "      <th>...</th>\n",
              "      <th>share</th>\n",
              "      <th>answer</th>\n",
              "      <th>locat</th>\n",
              "      <th>discuss</th>\n",
              "      <th>analys</th>\n",
              "      <th>insert</th>\n",
              "      <th>comment</th>\n",
              "      <th>measurements</th>\n",
              "      <th>fill out</th>\n",
              "      <th>come up with</th>\n",
              "    </tr>\n",
              "  </thead>\n",
              "  <tbody>\n",
              "    <tr>\n",
              "      <th>0</th>\n",
              "      <td>1</td>\n",
              "      <td>Zooniverse</td>\n",
              "      <td>MATURITY OF BABY SOUNDS</td>\n",
              "      <td>0</td>\n",
              "      <td>1</td>\n",
              "      <td>1</td>\n",
              "      <td>0</td>\n",
              "      <td>0</td>\n",
              "      <td>1</td>\n",
              "      <td>1</td>\n",
              "      <td>...</td>\n",
              "      <td>0</td>\n",
              "      <td>1</td>\n",
              "      <td>1</td>\n",
              "      <td>0</td>\n",
              "      <td>0</td>\n",
              "      <td>0</td>\n",
              "      <td>0</td>\n",
              "      <td>0</td>\n",
              "      <td>0</td>\n",
              "      <td>0</td>\n",
              "    </tr>\n",
              "    <tr>\n",
              "      <th>1</th>\n",
              "      <td>2</td>\n",
              "      <td>cienciacidadapt</td>\n",
              "      <td>PLANT LETTERS</td>\n",
              "      <td>1</td>\n",
              "      <td>0</td>\n",
              "      <td>1</td>\n",
              "      <td>0</td>\n",
              "      <td>0</td>\n",
              "      <td>0</td>\n",
              "      <td>1</td>\n",
              "      <td>...</td>\n",
              "      <td>0</td>\n",
              "      <td>0</td>\n",
              "      <td>1</td>\n",
              "      <td>0</td>\n",
              "      <td>0</td>\n",
              "      <td>0</td>\n",
              "      <td>0</td>\n",
              "      <td>0</td>\n",
              "      <td>0</td>\n",
              "      <td>0</td>\n",
              "    </tr>\n",
              "    <tr>\n",
              "      <th>2</th>\n",
              "      <td>2</td>\n",
              "      <td>Zooniverse</td>\n",
              "      <td>PLANT LETTERS</td>\n",
              "      <td>1</td>\n",
              "      <td>0</td>\n",
              "      <td>1</td>\n",
              "      <td>0</td>\n",
              "      <td>0</td>\n",
              "      <td>0</td>\n",
              "      <td>1</td>\n",
              "      <td>...</td>\n",
              "      <td>0</td>\n",
              "      <td>0</td>\n",
              "      <td>1</td>\n",
              "      <td>0</td>\n",
              "      <td>0</td>\n",
              "      <td>0</td>\n",
              "      <td>0</td>\n",
              "      <td>0</td>\n",
              "      <td>0</td>\n",
              "      <td>0</td>\n",
              "    </tr>\n",
              "    <tr>\n",
              "      <th>3</th>\n",
              "      <td>3</td>\n",
              "      <td>Zooniverse</td>\n",
              "      <td>CEDAR CREEK: EYES ON THE WILD</td>\n",
              "      <td>1</td>\n",
              "      <td>1</td>\n",
              "      <td>0</td>\n",
              "      <td>0</td>\n",
              "      <td>0</td>\n",
              "      <td>1</td>\n",
              "      <td>1</td>\n",
              "      <td>...</td>\n",
              "      <td>1</td>\n",
              "      <td>1</td>\n",
              "      <td>1</td>\n",
              "      <td>1</td>\n",
              "      <td>0</td>\n",
              "      <td>0</td>\n",
              "      <td>0</td>\n",
              "      <td>0</td>\n",
              "      <td>0</td>\n",
              "      <td>0</td>\n",
              "    </tr>\n",
              "    <tr>\n",
              "      <th>4</th>\n",
              "      <td>4</td>\n",
              "      <td>Zooniverse</td>\n",
              "      <td>SNAPSHOT HOGE VELUWE</td>\n",
              "      <td>1</td>\n",
              "      <td>1</td>\n",
              "      <td>1</td>\n",
              "      <td>0</td>\n",
              "      <td>1</td>\n",
              "      <td>1</td>\n",
              "      <td>1</td>\n",
              "      <td>...</td>\n",
              "      <td>1</td>\n",
              "      <td>1</td>\n",
              "      <td>1</td>\n",
              "      <td>1</td>\n",
              "      <td>1</td>\n",
              "      <td>0</td>\n",
              "      <td>1</td>\n",
              "      <td>0</td>\n",
              "      <td>0</td>\n",
              "      <td>0</td>\n",
              "    </tr>\n",
              "    <tr>\n",
              "      <th>...</th>\n",
              "      <td>...</td>\n",
              "      <td>...</td>\n",
              "      <td>...</td>\n",
              "      <td>...</td>\n",
              "      <td>...</td>\n",
              "      <td>...</td>\n",
              "      <td>...</td>\n",
              "      <td>...</td>\n",
              "      <td>...</td>\n",
              "      <td>...</td>\n",
              "      <td>...</td>\n",
              "      <td>...</td>\n",
              "      <td>...</td>\n",
              "      <td>...</td>\n",
              "      <td>...</td>\n",
              "      <td>...</td>\n",
              "      <td>...</td>\n",
              "      <td>...</td>\n",
              "      <td>...</td>\n",
              "      <td>...</td>\n",
              "      <td>...</td>\n",
              "    </tr>\n",
              "    <tr>\n",
              "      <th>451</th>\n",
              "      <td>434</td>\n",
              "      <td>Scistarter</td>\n",
              "      <td>Crowdsourcing Cures</td>\n",
              "      <td>1</td>\n",
              "      <td>0</td>\n",
              "      <td>1</td>\n",
              "      <td>0</td>\n",
              "      <td>0</td>\n",
              "      <td>0</td>\n",
              "      <td>0</td>\n",
              "      <td>...</td>\n",
              "      <td>0</td>\n",
              "      <td>0</td>\n",
              "      <td>0</td>\n",
              "      <td>0</td>\n",
              "      <td>0</td>\n",
              "      <td>0</td>\n",
              "      <td>0</td>\n",
              "      <td>0</td>\n",
              "      <td>0</td>\n",
              "      <td>0</td>\n",
              "    </tr>\n",
              "    <tr>\n",
              "      <th>452</th>\n",
              "      <td>435</td>\n",
              "      <td>Scistarter</td>\n",
              "      <td>crea.blender SDG</td>\n",
              "      <td>0</td>\n",
              "      <td>0</td>\n",
              "      <td>0</td>\n",
              "      <td>0</td>\n",
              "      <td>0</td>\n",
              "      <td>0</td>\n",
              "      <td>0</td>\n",
              "      <td>...</td>\n",
              "      <td>0</td>\n",
              "      <td>0</td>\n",
              "      <td>0</td>\n",
              "      <td>0</td>\n",
              "      <td>0</td>\n",
              "      <td>0</td>\n",
              "      <td>0</td>\n",
              "      <td>0</td>\n",
              "      <td>0</td>\n",
              "      <td>0</td>\n",
              "    </tr>\n",
              "    <tr>\n",
              "      <th>453</th>\n",
              "      <td>436</td>\n",
              "      <td>Scistarter</td>\n",
              "      <td>NYBG Virtual Herbarium Expeditions</td>\n",
              "      <td>1</td>\n",
              "      <td>1</td>\n",
              "      <td>1</td>\n",
              "      <td>0</td>\n",
              "      <td>0</td>\n",
              "      <td>1</td>\n",
              "      <td>0</td>\n",
              "      <td>...</td>\n",
              "      <td>1</td>\n",
              "      <td>0</td>\n",
              "      <td>1</td>\n",
              "      <td>0</td>\n",
              "      <td>0</td>\n",
              "      <td>0</td>\n",
              "      <td>0</td>\n",
              "      <td>0</td>\n",
              "      <td>0</td>\n",
              "      <td>0</td>\n",
              "    </tr>\n",
              "    <tr>\n",
              "      <th>454</th>\n",
              "      <td>437</td>\n",
              "      <td>inrae</td>\n",
              "      <td>Tree Bodyguards</td>\n",
              "      <td>0</td>\n",
              "      <td>0</td>\n",
              "      <td>0</td>\n",
              "      <td>0</td>\n",
              "      <td>1</td>\n",
              "      <td>0</td>\n",
              "      <td>1</td>\n",
              "      <td>...</td>\n",
              "      <td>0</td>\n",
              "      <td>0</td>\n",
              "      <td>0</td>\n",
              "      <td>0</td>\n",
              "      <td>0</td>\n",
              "      <td>0</td>\n",
              "      <td>0</td>\n",
              "      <td>0</td>\n",
              "      <td>0</td>\n",
              "      <td>0</td>\n",
              "    </tr>\n",
              "    <tr>\n",
              "      <th>455</th>\n",
              "      <td>438</td>\n",
              "      <td>its4land</td>\n",
              "      <td>its4land</td>\n",
              "      <td>0</td>\n",
              "      <td>1</td>\n",
              "      <td>1</td>\n",
              "      <td>0</td>\n",
              "      <td>0</td>\n",
              "      <td>0</td>\n",
              "      <td>1</td>\n",
              "      <td>...</td>\n",
              "      <td>0</td>\n",
              "      <td>0</td>\n",
              "      <td>0</td>\n",
              "      <td>0</td>\n",
              "      <td>1</td>\n",
              "      <td>0</td>\n",
              "      <td>0</td>\n",
              "      <td>0</td>\n",
              "      <td>0</td>\n",
              "      <td>0</td>\n",
              "    </tr>\n",
              "  </tbody>\n",
              "</table>\n",
              "<p>456 rows × 23 columns</p>\n",
              "</div>\n",
              "      <button class=\"colab-df-convert\" onclick=\"convertToInteractive('df-9a10388b-acd0-47bb-9608-630acd832605')\"\n",
              "              title=\"Convert this dataframe to an interactive table.\"\n",
              "              style=\"display:none;\">\n",
              "        \n",
              "  <svg xmlns=\"http://www.w3.org/2000/svg\" height=\"24px\"viewBox=\"0 0 24 24\"\n",
              "       width=\"24px\">\n",
              "    <path d=\"M0 0h24v24H0V0z\" fill=\"none\"/>\n",
              "    <path d=\"M18.56 5.44l.94 2.06.94-2.06 2.06-.94-2.06-.94-.94-2.06-.94 2.06-2.06.94zm-11 1L8.5 8.5l.94-2.06 2.06-.94-2.06-.94L8.5 2.5l-.94 2.06-2.06.94zm10 10l.94 2.06.94-2.06 2.06-.94-2.06-.94-.94-2.06-.94 2.06-2.06.94z\"/><path d=\"M17.41 7.96l-1.37-1.37c-.4-.4-.92-.59-1.43-.59-.52 0-1.04.2-1.43.59L10.3 9.45l-7.72 7.72c-.78.78-.78 2.05 0 2.83L4 21.41c.39.39.9.59 1.41.59.51 0 1.02-.2 1.41-.59l7.78-7.78 2.81-2.81c.8-.78.8-2.07 0-2.86zM5.41 20L4 18.59l7.72-7.72 1.47 1.35L5.41 20z\"/>\n",
              "  </svg>\n",
              "      </button>\n",
              "      \n",
              "  <style>\n",
              "    .colab-df-container {\n",
              "      display:flex;\n",
              "      flex-wrap:wrap;\n",
              "      gap: 12px;\n",
              "    }\n",
              "\n",
              "    .colab-df-convert {\n",
              "      background-color: #E8F0FE;\n",
              "      border: none;\n",
              "      border-radius: 50%;\n",
              "      cursor: pointer;\n",
              "      display: none;\n",
              "      fill: #1967D2;\n",
              "      height: 32px;\n",
              "      padding: 0 0 0 0;\n",
              "      width: 32px;\n",
              "    }\n",
              "\n",
              "    .colab-df-convert:hover {\n",
              "      background-color: #E2EBFA;\n",
              "      box-shadow: 0px 1px 2px rgba(60, 64, 67, 0.3), 0px 1px 3px 1px rgba(60, 64, 67, 0.15);\n",
              "      fill: #174EA6;\n",
              "    }\n",
              "\n",
              "    [theme=dark] .colab-df-convert {\n",
              "      background-color: #3B4455;\n",
              "      fill: #D2E3FC;\n",
              "    }\n",
              "\n",
              "    [theme=dark] .colab-df-convert:hover {\n",
              "      background-color: #434B5C;\n",
              "      box-shadow: 0px 1px 3px 1px rgba(0, 0, 0, 0.15);\n",
              "      filter: drop-shadow(0px 1px 2px rgba(0, 0, 0, 0.3));\n",
              "      fill: #FFFFFF;\n",
              "    }\n",
              "  </style>\n",
              "\n",
              "      <script>\n",
              "        const buttonEl =\n",
              "          document.querySelector('#df-9a10388b-acd0-47bb-9608-630acd832605 button.colab-df-convert');\n",
              "        buttonEl.style.display =\n",
              "          google.colab.kernel.accessAllowed ? 'block' : 'none';\n",
              "\n",
              "        async function convertToInteractive(key) {\n",
              "          const element = document.querySelector('#df-9a10388b-acd0-47bb-9608-630acd832605');\n",
              "          const dataTable =\n",
              "            await google.colab.kernel.invokeFunction('convertToInteractive',\n",
              "                                                     [key], {});\n",
              "          if (!dataTable) return;\n",
              "\n",
              "          const docLinkHtml = 'Like what you see? Visit the ' +\n",
              "            '<a target=\"_blank\" href=https://colab.research.google.com/notebooks/data_table.ipynb>data table notebook</a>'\n",
              "            + ' to learn more about interactive tables.';\n",
              "          element.innerHTML = '';\n",
              "          dataTable['output_type'] = 'display_data';\n",
              "          await google.colab.output.renderOutput(dataTable, element);\n",
              "          const docLink = document.createElement('div');\n",
              "          docLink.innerHTML = docLinkHtml;\n",
              "          element.appendChild(docLink);\n",
              "        }\n",
              "      </script>\n",
              "    </div>\n",
              "  </div>\n",
              "  "
            ]
          },
          "metadata": {},
          "execution_count": 65
        }
      ]
    },
    {
      "cell_type": "markdown",
      "source": [
        "Selected list of Platforms: Platform ID, Name\n",
        "\n",
        "+ 13 - Zooniverse\n",
        "+ 17 - EU citizen science\n",
        "+ 1- Citizen Science Vlaanderen\n",
        "+ 6 - Ciencia Ciudadana España\n",
        "+ 10 - Schweiz forscht\n"
      ],
      "metadata": {
        "id": "RgPTPHX2_4fz"
      }
    },
    {
      "cell_type": "code",
      "source": [
        "# skills assignment zooniverse \n",
        "Zooniverse = data[data['Platform'] == 'Zooniverse'] \n",
        "\n",
        "# count\n",
        "Zooniverse.iloc[:, 3:24].sum(axis=0)"
      ],
      "metadata": {
        "colab": {
          "base_uri": "https://localhost:8080/"
        },
        "id": "MSCONXQj_3ZO",
        "outputId": "bada9f9e-b431-40af-d3e7-198a7273082a"
      },
      "execution_count": null,
      "outputs": [
        {
          "output_type": "execute_result",
          "data": {
            "text/plain": [
              "collect          9\n",
              "search          14\n",
              "record           7\n",
              "identify         1\n",
              "observ           8\n",
              "find            12\n",
              "count            9\n",
              "enter            3\n",
              "note             6\n",
              "transcrib        2\n",
              "share            4\n",
              "answer           7\n",
              "locat            6\n",
              "discuss          2\n",
              "analys           6\n",
              "insert           0\n",
              "comment          1\n",
              "measurements     0\n",
              "fill out         0\n",
              "come up with     0\n",
              "dtype: int64"
            ]
          },
          "metadata": {},
          "execution_count": 66
        }
      ]
    },
    {
      "cell_type": "code",
      "source": [
        "# skills assignment EU citizen science \n",
        "EU = data[data['Platform'] == 'EUCitizenScience'] \n",
        "EU.iloc[:, 3:24].sum(axis=0)"
      ],
      "metadata": {
        "colab": {
          "base_uri": "https://localhost:8080/"
        },
        "id": "1DGog4Cj9Eyf",
        "outputId": "eccb968d-fbda-42f8-bfc7-a29cfcfe5cfa"
      },
      "execution_count": null,
      "outputs": [
        {
          "output_type": "execute_result",
          "data": {
            "text/plain": [
              "collect         21\n",
              "search          14\n",
              "record          11\n",
              "identify         0\n",
              "observ          15\n",
              "find             4\n",
              "count            5\n",
              "enter            4\n",
              "note             2\n",
              "transcrib        2\n",
              "share           10\n",
              "answer           2\n",
              "locat            9\n",
              "discuss          2\n",
              "analys           4\n",
              "insert           1\n",
              "comment          0\n",
              "measurements     0\n",
              "fill out         0\n",
              "come up with     0\n",
              "dtype: int64"
            ]
          },
          "metadata": {},
          "execution_count": 67
        }
      ]
    },
    {
      "cell_type": "code",
      "source": [
        "# skills assignment Vlaanderen\n",
        "Vlaanderen = data[data['Platform'] == 'Scivil'] \n",
        "Vlaanderen.iloc[:, 3:24].sum(axis=0)"
      ],
      "metadata": {
        "colab": {
          "base_uri": "https://localhost:8080/"
        },
        "id": "Pyrd2itK9E6C",
        "outputId": "01f4be59-31c4-41d2-9e0f-91bddcc83d48"
      },
      "execution_count": null,
      "outputs": [
        {
          "output_type": "execute_result",
          "data": {
            "text/plain": [
              "collect         0\n",
              "search          1\n",
              "record          0\n",
              "identify        0\n",
              "observ          0\n",
              "find            0\n",
              "count           0\n",
              "enter           0\n",
              "note            0\n",
              "transcrib       0\n",
              "share           0\n",
              "answer          1\n",
              "locat           0\n",
              "discuss         1\n",
              "analys          1\n",
              "insert          0\n",
              "comment         0\n",
              "measurements    0\n",
              "fill out        0\n",
              "come up with    0\n",
              "dtype: int64"
            ]
          },
          "metadata": {},
          "execution_count": 68
        }
      ]
    },
    {
      "cell_type": "code",
      "source": [
        "# skills assignment Ciencia Ciudadana España\n",
        "Ciencia = data[data['Platform'] == 'Ciencia Ciudadana España'] \n",
        "Ciencia"
      ],
      "metadata": {
        "colab": {
          "base_uri": "https://localhost:8080/",
          "height": 92
        },
        "id": "XHdlLph59FBf",
        "outputId": "390e5896-0d3a-449e-a18b-9c97aed2fb52"
      },
      "execution_count": null,
      "outputs": [
        {
          "output_type": "execute_result",
          "data": {
            "text/plain": [
              "Empty DataFrame\n",
              "Columns: [No, Platform, Project, collect, search, record, identify, observ, find, count, enter, note, transcrib, share, answer, locat, discuss, analys, insert, comment, measurements, fill out, come up with]\n",
              "Index: []\n",
              "\n",
              "[0 rows x 23 columns]"
            ],
            "text/html": [
              "\n",
              "  <div id=\"df-44e73f1b-dec6-4565-8acd-1e76f7940aac\">\n",
              "    <div class=\"colab-df-container\">\n",
              "      <div>\n",
              "<style scoped>\n",
              "    .dataframe tbody tr th:only-of-type {\n",
              "        vertical-align: middle;\n",
              "    }\n",
              "\n",
              "    .dataframe tbody tr th {\n",
              "        vertical-align: top;\n",
              "    }\n",
              "\n",
              "    .dataframe thead th {\n",
              "        text-align: right;\n",
              "    }\n",
              "</style>\n",
              "<table border=\"1\" class=\"dataframe\">\n",
              "  <thead>\n",
              "    <tr style=\"text-align: right;\">\n",
              "      <th></th>\n",
              "      <th>No</th>\n",
              "      <th>Platform</th>\n",
              "      <th>Project</th>\n",
              "      <th>collect</th>\n",
              "      <th>search</th>\n",
              "      <th>record</th>\n",
              "      <th>identify</th>\n",
              "      <th>observ</th>\n",
              "      <th>find</th>\n",
              "      <th>count</th>\n",
              "      <th>...</th>\n",
              "      <th>share</th>\n",
              "      <th>answer</th>\n",
              "      <th>locat</th>\n",
              "      <th>discuss</th>\n",
              "      <th>analys</th>\n",
              "      <th>insert</th>\n",
              "      <th>comment</th>\n",
              "      <th>measurements</th>\n",
              "      <th>fill out</th>\n",
              "      <th>come up with</th>\n",
              "    </tr>\n",
              "  </thead>\n",
              "  <tbody>\n",
              "  </tbody>\n",
              "</table>\n",
              "<p>0 rows × 23 columns</p>\n",
              "</div>\n",
              "      <button class=\"colab-df-convert\" onclick=\"convertToInteractive('df-44e73f1b-dec6-4565-8acd-1e76f7940aac')\"\n",
              "              title=\"Convert this dataframe to an interactive table.\"\n",
              "              style=\"display:none;\">\n",
              "        \n",
              "  <svg xmlns=\"http://www.w3.org/2000/svg\" height=\"24px\"viewBox=\"0 0 24 24\"\n",
              "       width=\"24px\">\n",
              "    <path d=\"M0 0h24v24H0V0z\" fill=\"none\"/>\n",
              "    <path d=\"M18.56 5.44l.94 2.06.94-2.06 2.06-.94-2.06-.94-.94-2.06-.94 2.06-2.06.94zm-11 1L8.5 8.5l.94-2.06 2.06-.94-2.06-.94L8.5 2.5l-.94 2.06-2.06.94zm10 10l.94 2.06.94-2.06 2.06-.94-2.06-.94-.94-2.06-.94 2.06-2.06.94z\"/><path d=\"M17.41 7.96l-1.37-1.37c-.4-.4-.92-.59-1.43-.59-.52 0-1.04.2-1.43.59L10.3 9.45l-7.72 7.72c-.78.78-.78 2.05 0 2.83L4 21.41c.39.39.9.59 1.41.59.51 0 1.02-.2 1.41-.59l7.78-7.78 2.81-2.81c.8-.78.8-2.07 0-2.86zM5.41 20L4 18.59l7.72-7.72 1.47 1.35L5.41 20z\"/>\n",
              "  </svg>\n",
              "      </button>\n",
              "      \n",
              "  <style>\n",
              "    .colab-df-container {\n",
              "      display:flex;\n",
              "      flex-wrap:wrap;\n",
              "      gap: 12px;\n",
              "    }\n",
              "\n",
              "    .colab-df-convert {\n",
              "      background-color: #E8F0FE;\n",
              "      border: none;\n",
              "      border-radius: 50%;\n",
              "      cursor: pointer;\n",
              "      display: none;\n",
              "      fill: #1967D2;\n",
              "      height: 32px;\n",
              "      padding: 0 0 0 0;\n",
              "      width: 32px;\n",
              "    }\n",
              "\n",
              "    .colab-df-convert:hover {\n",
              "      background-color: #E2EBFA;\n",
              "      box-shadow: 0px 1px 2px rgba(60, 64, 67, 0.3), 0px 1px 3px 1px rgba(60, 64, 67, 0.15);\n",
              "      fill: #174EA6;\n",
              "    }\n",
              "\n",
              "    [theme=dark] .colab-df-convert {\n",
              "      background-color: #3B4455;\n",
              "      fill: #D2E3FC;\n",
              "    }\n",
              "\n",
              "    [theme=dark] .colab-df-convert:hover {\n",
              "      background-color: #434B5C;\n",
              "      box-shadow: 0px 1px 3px 1px rgba(0, 0, 0, 0.15);\n",
              "      filter: drop-shadow(0px 1px 2px rgba(0, 0, 0, 0.3));\n",
              "      fill: #FFFFFF;\n",
              "    }\n",
              "  </style>\n",
              "\n",
              "      <script>\n",
              "        const buttonEl =\n",
              "          document.querySelector('#df-44e73f1b-dec6-4565-8acd-1e76f7940aac button.colab-df-convert');\n",
              "        buttonEl.style.display =\n",
              "          google.colab.kernel.accessAllowed ? 'block' : 'none';\n",
              "\n",
              "        async function convertToInteractive(key) {\n",
              "          const element = document.querySelector('#df-44e73f1b-dec6-4565-8acd-1e76f7940aac');\n",
              "          const dataTable =\n",
              "            await google.colab.kernel.invokeFunction('convertToInteractive',\n",
              "                                                     [key], {});\n",
              "          if (!dataTable) return;\n",
              "\n",
              "          const docLinkHtml = 'Like what you see? Visit the ' +\n",
              "            '<a target=\"_blank\" href=https://colab.research.google.com/notebooks/data_table.ipynb>data table notebook</a>'\n",
              "            + ' to learn more about interactive tables.';\n",
              "          element.innerHTML = '';\n",
              "          dataTable['output_type'] = 'display_data';\n",
              "          await google.colab.output.renderOutput(dataTable, element);\n",
              "          const docLink = document.createElement('div');\n",
              "          docLink.innerHTML = docLinkHtml;\n",
              "          element.appendChild(docLink);\n",
              "        }\n",
              "      </script>\n",
              "    </div>\n",
              "  </div>\n",
              "  "
            ]
          },
          "metadata": {},
          "execution_count": 69
        }
      ]
    },
    {
      "cell_type": "code",
      "source": [
        "# skills area assignment Schweiz forscht\n",
        "Schweiz = data[data['Platform'] == 'Schweiz forscht'] \n",
        "Schweiz"
      ],
      "metadata": {
        "colab": {
          "base_uri": "https://localhost:8080/",
          "height": 92
        },
        "id": "zpc0jHYh9FHX",
        "outputId": "e3d6ed26-9f73-4f23-80f3-fbd0fb635864"
      },
      "execution_count": null,
      "outputs": [
        {
          "output_type": "execute_result",
          "data": {
            "text/plain": [
              "Empty DataFrame\n",
              "Columns: [No, Platform, Project, collect, search, record, identify, observ, find, count, enter, note, transcrib, share, answer, locat, discuss, analys, insert, comment, measurements, fill out, come up with]\n",
              "Index: []\n",
              "\n",
              "[0 rows x 23 columns]"
            ],
            "text/html": [
              "\n",
              "  <div id=\"df-660cca17-0da1-4e56-8834-039e9bf75246\">\n",
              "    <div class=\"colab-df-container\">\n",
              "      <div>\n",
              "<style scoped>\n",
              "    .dataframe tbody tr th:only-of-type {\n",
              "        vertical-align: middle;\n",
              "    }\n",
              "\n",
              "    .dataframe tbody tr th {\n",
              "        vertical-align: top;\n",
              "    }\n",
              "\n",
              "    .dataframe thead th {\n",
              "        text-align: right;\n",
              "    }\n",
              "</style>\n",
              "<table border=\"1\" class=\"dataframe\">\n",
              "  <thead>\n",
              "    <tr style=\"text-align: right;\">\n",
              "      <th></th>\n",
              "      <th>No</th>\n",
              "      <th>Platform</th>\n",
              "      <th>Project</th>\n",
              "      <th>collect</th>\n",
              "      <th>search</th>\n",
              "      <th>record</th>\n",
              "      <th>identify</th>\n",
              "      <th>observ</th>\n",
              "      <th>find</th>\n",
              "      <th>count</th>\n",
              "      <th>...</th>\n",
              "      <th>share</th>\n",
              "      <th>answer</th>\n",
              "      <th>locat</th>\n",
              "      <th>discuss</th>\n",
              "      <th>analys</th>\n",
              "      <th>insert</th>\n",
              "      <th>comment</th>\n",
              "      <th>measurements</th>\n",
              "      <th>fill out</th>\n",
              "      <th>come up with</th>\n",
              "    </tr>\n",
              "  </thead>\n",
              "  <tbody>\n",
              "  </tbody>\n",
              "</table>\n",
              "<p>0 rows × 23 columns</p>\n",
              "</div>\n",
              "      <button class=\"colab-df-convert\" onclick=\"convertToInteractive('df-660cca17-0da1-4e56-8834-039e9bf75246')\"\n",
              "              title=\"Convert this dataframe to an interactive table.\"\n",
              "              style=\"display:none;\">\n",
              "        \n",
              "  <svg xmlns=\"http://www.w3.org/2000/svg\" height=\"24px\"viewBox=\"0 0 24 24\"\n",
              "       width=\"24px\">\n",
              "    <path d=\"M0 0h24v24H0V0z\" fill=\"none\"/>\n",
              "    <path d=\"M18.56 5.44l.94 2.06.94-2.06 2.06-.94-2.06-.94-.94-2.06-.94 2.06-2.06.94zm-11 1L8.5 8.5l.94-2.06 2.06-.94-2.06-.94L8.5 2.5l-.94 2.06-2.06.94zm10 10l.94 2.06.94-2.06 2.06-.94-2.06-.94-.94-2.06-.94 2.06-2.06.94z\"/><path d=\"M17.41 7.96l-1.37-1.37c-.4-.4-.92-.59-1.43-.59-.52 0-1.04.2-1.43.59L10.3 9.45l-7.72 7.72c-.78.78-.78 2.05 0 2.83L4 21.41c.39.39.9.59 1.41.59.51 0 1.02-.2 1.41-.59l7.78-7.78 2.81-2.81c.8-.78.8-2.07 0-2.86zM5.41 20L4 18.59l7.72-7.72 1.47 1.35L5.41 20z\"/>\n",
              "  </svg>\n",
              "      </button>\n",
              "      \n",
              "  <style>\n",
              "    .colab-df-container {\n",
              "      display:flex;\n",
              "      flex-wrap:wrap;\n",
              "      gap: 12px;\n",
              "    }\n",
              "\n",
              "    .colab-df-convert {\n",
              "      background-color: #E8F0FE;\n",
              "      border: none;\n",
              "      border-radius: 50%;\n",
              "      cursor: pointer;\n",
              "      display: none;\n",
              "      fill: #1967D2;\n",
              "      height: 32px;\n",
              "      padding: 0 0 0 0;\n",
              "      width: 32px;\n",
              "    }\n",
              "\n",
              "    .colab-df-convert:hover {\n",
              "      background-color: #E2EBFA;\n",
              "      box-shadow: 0px 1px 2px rgba(60, 64, 67, 0.3), 0px 1px 3px 1px rgba(60, 64, 67, 0.15);\n",
              "      fill: #174EA6;\n",
              "    }\n",
              "\n",
              "    [theme=dark] .colab-df-convert {\n",
              "      background-color: #3B4455;\n",
              "      fill: #D2E3FC;\n",
              "    }\n",
              "\n",
              "    [theme=dark] .colab-df-convert:hover {\n",
              "      background-color: #434B5C;\n",
              "      box-shadow: 0px 1px 3px 1px rgba(0, 0, 0, 0.15);\n",
              "      filter: drop-shadow(0px 1px 2px rgba(0, 0, 0, 0.3));\n",
              "      fill: #FFFFFF;\n",
              "    }\n",
              "  </style>\n",
              "\n",
              "      <script>\n",
              "        const buttonEl =\n",
              "          document.querySelector('#df-660cca17-0da1-4e56-8834-039e9bf75246 button.colab-df-convert');\n",
              "        buttonEl.style.display =\n",
              "          google.colab.kernel.accessAllowed ? 'block' : 'none';\n",
              "\n",
              "        async function convertToInteractive(key) {\n",
              "          const element = document.querySelector('#df-660cca17-0da1-4e56-8834-039e9bf75246');\n",
              "          const dataTable =\n",
              "            await google.colab.kernel.invokeFunction('convertToInteractive',\n",
              "                                                     [key], {});\n",
              "          if (!dataTable) return;\n",
              "\n",
              "          const docLinkHtml = 'Like what you see? Visit the ' +\n",
              "            '<a target=\"_blank\" href=https://colab.research.google.com/notebooks/data_table.ipynb>data table notebook</a>'\n",
              "            + ' to learn more about interactive tables.';\n",
              "          element.innerHTML = '';\n",
              "          dataTable['output_type'] = 'display_data';\n",
              "          await google.colab.output.renderOutput(dataTable, element);\n",
              "          const docLink = document.createElement('div');\n",
              "          docLink.innerHTML = docLinkHtml;\n",
              "          element.appendChild(docLink);\n",
              "        }\n",
              "      </script>\n",
              "    </div>\n",
              "  </div>\n",
              "  "
            ]
          },
          "metadata": {},
          "execution_count": 70
        }
      ]
    }
  ]
}