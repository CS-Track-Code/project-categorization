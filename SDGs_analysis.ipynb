{
  "nbformat": 4,
  "nbformat_minor": 0,
  "metadata": {
    "colab": {
      "provenance": []
    },
    "kernelspec": {
      "name": "python3",
      "display_name": "Python 3"
    },
    "language_info": {
      "name": "python"
    }
  },
  "cells": [
    {
      "cell_type": "markdown",
      "source": [
        "#### Sustainable Development Goals (SDGs) covered by CS projects\n",
        "\n",
        "CS projects were classified into 17 SDGs using ESA"
      ],
      "metadata": {
        "id": "ehvYX8_hPm1W"
      }
    },
    {
      "cell_type": "code",
      "source": [
        "# pandas and numpy for reading and manipulating the data\n",
        "import pandas as pd\n",
        "import numpy as np\n",
        "\n",
        "# matplotlib and seaborn for visualizing the data\n",
        "import matplotlib.pyplot as plt\n",
        "import seaborn as sns\n",
        "\n",
        "import warnings\n",
        "warnings.filterwarnings('ignore')\n",
        "\n",
        "# read the dataset\n",
        "dbRecords = pd.read_csv('query_result.csv')"
      ],
      "metadata": {
        "id": "qgPZsq8g7DeG"
      },
      "execution_count": null,
      "outputs": []
    },
    {
      "cell_type": "code",
      "source": [
        "# basic stats about the data\n",
        "#dbRecords.info()"
      ],
      "metadata": {
        "id": "EhAHyDDW7yIO"
      },
      "execution_count": null,
      "outputs": []
    },
    {
      "cell_type": "markdown",
      "source": [
        "#### Q1. What is the distribution of SDGs at the project level? (considering the 17 SDGs)"
      ],
      "metadata": {
        "id": "4qmld2VwQWU1"
      }
    },
    {
      "cell_type": "code",
      "source": [
        "#projects without SDG assignments\n",
        "dbRecords['Sdg'].isnull().sum()"
      ],
      "metadata": {
        "id": "pQugZTW_703D",
        "colab": {
          "base_uri": "https://localhost:8080/"
        },
        "outputId": "053cb9f6-8c6d-414d-80d6-3e21f603f793"
      },
      "execution_count": null,
      "outputs": [
        {
          "output_type": "execute_result",
          "data": {
            "text/plain": [
              "100"
            ]
          },
          "metadata": {},
          "execution_count": 28
        }
      ]
    },
    {
      "cell_type": "code",
      "source": [
        "#filter project title and SDG for analysis\n",
        "dfn = dbRecords[['Title', 'Sdg']]\n",
        "df1 = dfn.dropna()\n",
        "df1.info()"
      ],
      "metadata": {
        "id": "lb2GsTIfHNpl",
        "colab": {
          "base_uri": "https://localhost:8080/"
        },
        "outputId": "96d972aa-66fd-4daa-f90b-7abef21645d7"
      },
      "execution_count": null,
      "outputs": [
        {
          "output_type": "stream",
          "name": "stdout",
          "text": [
            "<class 'pandas.core.frame.DataFrame'>\n",
            "Int64Index: 4849 entries, 0 to 4948\n",
            "Data columns (total 2 columns):\n",
            " #   Column  Non-Null Count  Dtype \n",
            "---  ------  --------------  ----- \n",
            " 0   Title   4849 non-null   object\n",
            " 1   Sdg     4849 non-null   object\n",
            "dtypes: object(2)\n",
            "memory usage: 113.6+ KB\n"
          ]
        }
      ]
    },
    {
      "cell_type": "code",
      "source": [
        "df1 = df1[df1.Sdg != '[]']"
      ],
      "metadata": {
        "id": "5NTcHfTtJOJL"
      },
      "execution_count": null,
      "outputs": []
    },
    {
      "cell_type": "code",
      "source": [
        "#example - ESA Assignment\n",
        "pd.options.display.max_colwidth = 100\n",
        "#df1.head()"
      ],
      "metadata": {
        "id": "q0Ub8ex0HXEv"
      },
      "execution_count": null,
      "outputs": []
    },
    {
      "cell_type": "code",
      "source": [
        "# only report the highest similarity SDG assignment\n",
        "newlist = []\n",
        "\n",
        "for a in df1['Sdg']:\n",
        "  sdg = a.split(\",\")[1] \n",
        "  newlist.append(sdg) "
      ],
      "metadata": {
        "id": "ekHDhN83HXJ2"
      },
      "execution_count": null,
      "outputs": []
    },
    {
      "cell_type": "code",
      "source": [
        "df1['Extracted SDGs'] = np.array(newlist) \n",
        "df1.head()"
      ],
      "metadata": {
        "id": "aAN0vyEkHXPH",
        "colab": {
          "base_uri": "https://localhost:8080/",
          "height": 260
        },
        "outputId": "73d46a9c-2c52-4f24-9fca-d48847693840"
      },
      "execution_count": null,
      "outputs": [
        {
          "output_type": "execute_result",
          "data": {
            "text/plain": [
              "                  Title  \\\n",
              "2                Citree   \n",
              "3          Fossilfinder   \n",
              "4              Roadkill   \n",
              "5              KraMobil   \n",
              "7  Heavy Metal City-Zen   \n",
              "\n",
              "                                                                                                   Sdg  \\\n",
              "2  [\"SDG, SDG #11, 0.37277650533619905\" \"SDG, SDG #10, 0.2875334888728189\" \"SDG, SDG #9, 0.28366352...   \n",
              "3                               [\"SDG, SDG #1, 0.2798758512519837\" \"SDG, SDG #11, 0.2577752435516754\"]   \n",
              "4                                                                [\"SDG, SDG #15, 0.26473126252405066\"]   \n",
              "5                              [\"SDG, SDG #15, 0.31988754640008393\" \"SDG, SDG #2, 0.2802445714754503\"]   \n",
              "7                              [\"SDG, SDG #11, 0.29815217853355935\" \"SDG, SDG #2, 0.2582125142003165\"]   \n",
              "\n",
              "  Extracted SDGs  \n",
              "2        SDG #11  \n",
              "3         SDG #1  \n",
              "4        SDG #15  \n",
              "5        SDG #15  \n",
              "7        SDG #11  "
            ],
            "text/html": [
              "\n",
              "  <div id=\"df-c874b5de-4012-4135-a9df-144b1579f543\">\n",
              "    <div class=\"colab-df-container\">\n",
              "      <div>\n",
              "<style scoped>\n",
              "    .dataframe tbody tr th:only-of-type {\n",
              "        vertical-align: middle;\n",
              "    }\n",
              "\n",
              "    .dataframe tbody tr th {\n",
              "        vertical-align: top;\n",
              "    }\n",
              "\n",
              "    .dataframe thead th {\n",
              "        text-align: right;\n",
              "    }\n",
              "</style>\n",
              "<table border=\"1\" class=\"dataframe\">\n",
              "  <thead>\n",
              "    <tr style=\"text-align: right;\">\n",
              "      <th></th>\n",
              "      <th>Title</th>\n",
              "      <th>Sdg</th>\n",
              "      <th>Extracted SDGs</th>\n",
              "    </tr>\n",
              "  </thead>\n",
              "  <tbody>\n",
              "    <tr>\n",
              "      <th>2</th>\n",
              "      <td>Citree</td>\n",
              "      <td>[\"SDG, SDG #11, 0.37277650533619905\" \"SDG, SDG #10, 0.2875334888728189\" \"SDG, SDG #9, 0.28366352...</td>\n",
              "      <td>SDG #11</td>\n",
              "    </tr>\n",
              "    <tr>\n",
              "      <th>3</th>\n",
              "      <td>Fossilfinder</td>\n",
              "      <td>[\"SDG, SDG #1, 0.2798758512519837\" \"SDG, SDG #11, 0.2577752435516754\"]</td>\n",
              "      <td>SDG #1</td>\n",
              "    </tr>\n",
              "    <tr>\n",
              "      <th>4</th>\n",
              "      <td>Roadkill</td>\n",
              "      <td>[\"SDG, SDG #15, 0.26473126252405066\"]</td>\n",
              "      <td>SDG #15</td>\n",
              "    </tr>\n",
              "    <tr>\n",
              "      <th>5</th>\n",
              "      <td>KraMobil</td>\n",
              "      <td>[\"SDG, SDG #15, 0.31988754640008393\" \"SDG, SDG #2, 0.2802445714754503\"]</td>\n",
              "      <td>SDG #15</td>\n",
              "    </tr>\n",
              "    <tr>\n",
              "      <th>7</th>\n",
              "      <td>Heavy Metal City-Zen</td>\n",
              "      <td>[\"SDG, SDG #11, 0.29815217853355935\" \"SDG, SDG #2, 0.2582125142003165\"]</td>\n",
              "      <td>SDG #11</td>\n",
              "    </tr>\n",
              "  </tbody>\n",
              "</table>\n",
              "</div>\n",
              "      <button class=\"colab-df-convert\" onclick=\"convertToInteractive('df-c874b5de-4012-4135-a9df-144b1579f543')\"\n",
              "              title=\"Convert this dataframe to an interactive table.\"\n",
              "              style=\"display:none;\">\n",
              "        \n",
              "  <svg xmlns=\"http://www.w3.org/2000/svg\" height=\"24px\"viewBox=\"0 0 24 24\"\n",
              "       width=\"24px\">\n",
              "    <path d=\"M0 0h24v24H0V0z\" fill=\"none\"/>\n",
              "    <path d=\"M18.56 5.44l.94 2.06.94-2.06 2.06-.94-2.06-.94-.94-2.06-.94 2.06-2.06.94zm-11 1L8.5 8.5l.94-2.06 2.06-.94-2.06-.94L8.5 2.5l-.94 2.06-2.06.94zm10 10l.94 2.06.94-2.06 2.06-.94-2.06-.94-.94-2.06-.94 2.06-2.06.94z\"/><path d=\"M17.41 7.96l-1.37-1.37c-.4-.4-.92-.59-1.43-.59-.52 0-1.04.2-1.43.59L10.3 9.45l-7.72 7.72c-.78.78-.78 2.05 0 2.83L4 21.41c.39.39.9.59 1.41.59.51 0 1.02-.2 1.41-.59l7.78-7.78 2.81-2.81c.8-.78.8-2.07 0-2.86zM5.41 20L4 18.59l7.72-7.72 1.47 1.35L5.41 20z\"/>\n",
              "  </svg>\n",
              "      </button>\n",
              "      \n",
              "  <style>\n",
              "    .colab-df-container {\n",
              "      display:flex;\n",
              "      flex-wrap:wrap;\n",
              "      gap: 12px;\n",
              "    }\n",
              "\n",
              "    .colab-df-convert {\n",
              "      background-color: #E8F0FE;\n",
              "      border: none;\n",
              "      border-radius: 50%;\n",
              "      cursor: pointer;\n",
              "      display: none;\n",
              "      fill: #1967D2;\n",
              "      height: 32px;\n",
              "      padding: 0 0 0 0;\n",
              "      width: 32px;\n",
              "    }\n",
              "\n",
              "    .colab-df-convert:hover {\n",
              "      background-color: #E2EBFA;\n",
              "      box-shadow: 0px 1px 2px rgba(60, 64, 67, 0.3), 0px 1px 3px 1px rgba(60, 64, 67, 0.15);\n",
              "      fill: #174EA6;\n",
              "    }\n",
              "\n",
              "    [theme=dark] .colab-df-convert {\n",
              "      background-color: #3B4455;\n",
              "      fill: #D2E3FC;\n",
              "    }\n",
              "\n",
              "    [theme=dark] .colab-df-convert:hover {\n",
              "      background-color: #434B5C;\n",
              "      box-shadow: 0px 1px 3px 1px rgba(0, 0, 0, 0.15);\n",
              "      filter: drop-shadow(0px 1px 2px rgba(0, 0, 0, 0.3));\n",
              "      fill: #FFFFFF;\n",
              "    }\n",
              "  </style>\n",
              "\n",
              "      <script>\n",
              "        const buttonEl =\n",
              "          document.querySelector('#df-c874b5de-4012-4135-a9df-144b1579f543 button.colab-df-convert');\n",
              "        buttonEl.style.display =\n",
              "          google.colab.kernel.accessAllowed ? 'block' : 'none';\n",
              "\n",
              "        async function convertToInteractive(key) {\n",
              "          const element = document.querySelector('#df-c874b5de-4012-4135-a9df-144b1579f543');\n",
              "          const dataTable =\n",
              "            await google.colab.kernel.invokeFunction('convertToInteractive',\n",
              "                                                     [key], {});\n",
              "          if (!dataTable) return;\n",
              "\n",
              "          const docLinkHtml = 'Like what you see? Visit the ' +\n",
              "            '<a target=\"_blank\" href=https://colab.research.google.com/notebooks/data_table.ipynb>data table notebook</a>'\n",
              "            + ' to learn more about interactive tables.';\n",
              "          element.innerHTML = '';\n",
              "          dataTable['output_type'] = 'display_data';\n",
              "          await google.colab.output.renderOutput(dataTable, element);\n",
              "          const docLink = document.createElement('div');\n",
              "          docLink.innerHTML = docLinkHtml;\n",
              "          element.appendChild(docLink);\n",
              "        }\n",
              "      </script>\n",
              "    </div>\n",
              "  </div>\n",
              "  "
            ]
          },
          "metadata": {},
          "execution_count": 33
        }
      ]
    },
    {
      "cell_type": "code",
      "source": [
        "# distribution of SDGs across 4849 projects\n",
        "df1['Extracted SDGs'].value_counts()"
      ],
      "metadata": {
        "colab": {
          "base_uri": "https://localhost:8080/"
        },
        "id": "P4FuIcebJi5V",
        "outputId": "bd259e77-18b6-41ea-b674-d9ca6a9290b6"
      },
      "execution_count": null,
      "outputs": [
        {
          "output_type": "execute_result",
          "data": {
            "text/plain": [
              " SDG #15    1052\n",
              " SDG #4      341\n",
              " SDG #1      299\n",
              " SDG #3      240\n",
              " SDG #11     198\n",
              " SDG #6      188\n",
              " SDG #14     118\n",
              " SDG #13      99\n",
              " SDG #2       53\n",
              " SDG #10      46\n",
              " SDG #12      40\n",
              " SDG #7       34\n",
              " SDG #9       16\n",
              " SDG #5       16\n",
              " SDG #8       16\n",
              " SDG #16       5\n",
              " SDG #17       5\n",
              "Name: Extracted SDGs, dtype: int64"
            ]
          },
          "metadata": {},
          "execution_count": 34
        }
      ]
    },
    {
      "cell_type": "code",
      "source": [
        "df1.rename(columns = {'Extracted SDGs':'Extracted_SDGs'}, inplace = True)"
      ],
      "metadata": {
        "id": "DZ3UV6nKObL0"
      },
      "execution_count": null,
      "outputs": []
    },
    {
      "cell_type": "code",
      "source": [
        "plt.rcParams[\"figure.figsize\"] = [12, 8]\n",
        "font = {'family' : 'normal',\n",
        "        'weight' : 'bold',\n",
        "        'size'   : 22}\n",
        "\n",
        "plt.rc('font', **font)\n",
        "\n",
        "sns.set_style('darkgrid')\n",
        "\n",
        "x = ['SDG#15', 'SDG#4', 'SDG #1', 'SDG #3', 'SDG #11', 'SDG #6', 'SDG #14', 'SDG #13', 'SDG #2', 'SDG #10', 'SDG #12', 'SDG #7', 'SDG #9', 'SDG #5', 'SDG #8', ' SDG #16', 'SDG #17']\n",
        "y = [1052, 341, 299, 240, 198, 188, 118, 99, 53,  46,  40, 34, 16, 16, 16, 5, 5  ]\n",
        "\n",
        "sns.color_palette(\"cubehelix\", as_cmap=True)\n",
        "save_plot = sns.barplot(y, x)\n",
        "fig = save_plot.get_figure()\n",
        "fig.savefig(\"sdg-count.png\") \n",
        "\n"
      ],
      "metadata": {
        "colab": {
          "base_uri": "https://localhost:8080/",
          "height": 494
        },
        "id": "7DMYwekbzC9w",
        "outputId": "7e74dd6b-48f2-409b-fa12-14aab7d8400b"
      },
      "execution_count": null,
      "outputs": [
        {
          "output_type": "display_data",
          "data": {
            "text/plain": [
              "<Figure size 864x576 with 1 Axes>"
            ],
            "image/png": "[encoded data removed]"
          },
          "metadata": {}
        }
      ]
    },
    {
      "cell_type": "markdown",
      "source": [
        "#### Q2: What is the distribution of SDGs at the platform level?"
      ],
      "metadata": {
        "id": "imeOZr6TdxAU"
      }
    },
    {
      "cell_type": "code",
      "source": [
        "#add platform details\n",
        "merged_data = df1.merge(dbRecords, left_on='Title', right_on='Title', suffixes=('_left', '_right'))\n",
        "\n",
        "#data relevant for analysis\n",
        "platofrm_analysis = merged_data[['Wp2 ID', 'Title', 'Sdg_left', 'Extracted_SDGs']]\n",
        "#platofrm_analysis.head() "
      ],
      "metadata": {
        "id": "mo6nYHuydSXR"
      },
      "execution_count": null,
      "outputs": []
    },
    {
      "cell_type": "code",
      "source": [
        "platofrm_analysis.rename(columns={'Wp2 ID': 'PlatformID'}, inplace = True)\n",
        "platofrm_analysis.to_csv('platofrm_analysis.csv') "
      ],
      "metadata": {
        "id": "yO5WE66zdSma"
      },
      "execution_count": null,
      "outputs": []
    },
    {
      "cell_type": "code",
      "source": [
        "#NOTE: # platofrm_analysis.csv has been manually preprocessed by checking multiple Platfrom ID assignments to a single CS prokect\n",
        "#load processed data\n",
        "platform_percentages = pd.read_csv('platofrm_analysis_SDG.csv')\n",
        "#platform_percentages.head()"
      ],
      "metadata": {
        "id": "SNz139NadSqv"
      },
      "execution_count": null,
      "outputs": []
    },
    {
      "cell_type": "code",
      "source": [
        "platform_percentages_count = platform_percentages.groupby(['PlatformID','Extracted_SDGs'])['Extracted_SDGs'].count()\n",
        "#platform_percentages_count.to_csv('platform_percentages_SDG_count.csv')"
      ],
      "metadata": {
        "id": "RdH7Vy56dS2v"
      },
      "execution_count": null,
      "outputs": []
    },
    {
      "cell_type": "markdown",
      "source": [
        "Selected list of Platforms: Platform ID, Name\n",
        "\n",
        "+ 13 - Zooniverse\n",
        "+ 17 - EU citizen science\n",
        "+ 1- Citizen Science Vlaanderen\n",
        "+ 6 - Ciencia Ciudadana España\n",
        "+ 10 - Schweiz forscht\n"
      ],
      "metadata": {
        "id": "2V5J_PaS5ZEZ"
      }
    },
    {
      "cell_type": "code",
      "source": [
        "# SDG assignment zooniverse \n",
        "zooniverse = platform_percentages[platform_percentages['PlatformID'] == 13] \n",
        "zooniverse['Extracted_SDGs'].value_counts()"
      ],
      "metadata": {
        "colab": {
          "base_uri": "https://localhost:8080/"
        },
        "id": "s3_OWTxw5ZoO",
        "outputId": "01f63afa-a96c-4265-d09a-8ca35300e743"
      },
      "execution_count": null,
      "outputs": [
        {
          "output_type": "execute_result",
          "data": {
            "text/plain": [
              "SDG #15    106\n",
              "SDG #1      27\n",
              "SDG #13     16\n",
              "SDG #7      12\n",
              "SDG #3      10\n",
              "SDG #4       9\n",
              "SDG #14      8\n",
              "SDG #11      7\n",
              "SDG #5       2\n",
              "SDG #6       2\n",
              "SDG #2       2\n",
              "SDG #10      2\n",
              "SDG #16      1\n",
              "SDG #8       1\n",
              "Name: Extracted_SDGs, dtype: int64"
            ]
          },
          "metadata": {},
          "execution_count": 41
        }
      ]
    },
    {
      "cell_type": "code",
      "source": [
        "# SDG assignment EU citizen science \n",
        "EU = platform_percentages[platform_percentages['PlatformID'] == 17] \n",
        "EU['Extracted_SDGs'].value_counts()"
      ],
      "metadata": {
        "colab": {
          "base_uri": "https://localhost:8080/"
        },
        "id": "RTLXbdrE5Z4K",
        "outputId": "2defb586-d15d-47c4-95b8-a784c6e18e9a"
      },
      "execution_count": null,
      "outputs": [
        {
          "output_type": "execute_result",
          "data": {
            "text/plain": [
              "SDG #15    29\n",
              "SDG #4     24\n",
              "SDG #1     21\n",
              "SDG #3     13\n",
              "SDG #11    12\n",
              "SDG #2      6\n",
              "SDG #6      3\n",
              "SDG #14     3\n",
              "SDG #13     3\n",
              "SDG #12     2\n",
              "SDG #10     2\n",
              "SDG #7      1\n",
              "SDG #8      1\n",
              "Name: Extracted_SDGs, dtype: int64"
            ]
          },
          "metadata": {},
          "execution_count": 42
        }
      ]
    },
    {
      "cell_type": "code",
      "source": [
        "# SDG assignment Vlaanderen\n",
        "Vlaanderen = platform_percentages[platform_percentages['PlatformID'] == 1] \n",
        "Vlaanderen['Extracted_SDGs'].value_counts()"
      ],
      "metadata": {
        "colab": {
          "base_uri": "https://localhost:8080/"
        },
        "id": "fmhPhbg65aGY",
        "outputId": "fa468114-2f47-483d-d969-1ba183883882"
      },
      "execution_count": null,
      "outputs": [
        {
          "output_type": "execute_result",
          "data": {
            "text/plain": [
              "SDG #15    4\n",
              "SDG #4     3\n",
              "SDG #1     1\n",
              "SDG #7     1\n",
              "SDG #11    1\n",
              "SDG #13    1\n",
              "SDG #6     1\n",
              "SDG #3     1\n",
              "Name: Extracted_SDGs, dtype: int64"
            ]
          },
          "metadata": {},
          "execution_count": 43
        }
      ]
    },
    {
      "cell_type": "code",
      "source": [
        "# SDG assignment Ciencia Ciudadana España\n",
        "Ciencia = platform_percentages[platform_percentages['PlatformID'] == 6] \n",
        "Ciencia['Extracted_SDGs'].value_counts()"
      ],
      "metadata": {
        "colab": {
          "base_uri": "https://localhost:8080/"
        },
        "id": "-UGvYQJI5aTG",
        "outputId": "c969472f-f44c-402d-8236-67265fcd9065"
      },
      "execution_count": null,
      "outputs": [
        {
          "output_type": "execute_result",
          "data": {
            "text/plain": [
              "SDG #4     30\n",
              "SDG #1     26\n",
              "SDG #11    19\n",
              "SDG #15    16\n",
              "SDG #3      7\n",
              "SDG #6      7\n",
              "SDG #12     5\n",
              "SDG #7      4\n",
              "SDG #2      3\n",
              "SDG #14     3\n",
              "SDG #13     2\n",
              "SDG #10     2\n",
              "SDG #9      2\n",
              "SDG #8      1\n",
              "SDG #5      1\n",
              "Name: Extracted_SDGs, dtype: int64"
            ]
          },
          "metadata": {},
          "execution_count": 44
        }
      ]
    },
    {
      "cell_type": "code",
      "source": [
        "# Research area assignment Schweiz forscht\n",
        "Schweiz = platform_percentages[platform_percentages['PlatformID'] == 10] \n",
        "Schweiz['Extracted_SDGs'].value_counts()"
      ],
      "metadata": {
        "colab": {
          "base_uri": "https://localhost:8080/"
        },
        "id": "vhUNq-U78QGa",
        "outputId": "8b177710-cffb-41f3-82b8-946b7f56441d"
      },
      "execution_count": null,
      "outputs": [
        {
          "output_type": "execute_result",
          "data": {
            "text/plain": [
              "SDG #1     14\n",
              "SDG #15    13\n",
              "SDG #11     5\n",
              "SDG #13     3\n",
              "SDG #9      2\n",
              "SDG #3      2\n",
              "SDG #2      2\n",
              "SDG #12     2\n",
              "SDG #4      2\n",
              "SDG #10     1\n",
              "SDG #7      1\n",
              "SDG #14     1\n",
              "SDG #6      1\n",
              "Name: Extracted_SDGs, dtype: int64"
            ]
          },
          "metadata": {},
          "execution_count": 45
        }
      ]
    }
  ]
}